{
 "cells": [
  {
   "cell_type": "code",
   "execution_count": 8,
   "metadata": {},
   "outputs": [
    {
     "name": "stdout",
     "output_type": "stream",
     "text": [
      "Packages Version Infos :\n",
      "\tmodule 'os' has no attribute '__version__'\n",
      "\tmodule 'sys' has no attribute '__version__'\n",
      "\tmodule 'glob' has no attribute '__version__'\n",
      "\tnumpy\t:\t1.21.4\n",
      "\tpandas\t:\t1.3.4\n",
      "\tjson\t:\t2.0.9\n",
      "\tcv2\t:\t4.5.4\n",
      "\tPIL.Image\t:\t8.4.0\n",
      "\tmodule 'matplotlib.pyplot' has no attribute '__version__'\n"
     ]
    }
   ],
   "source": [
    "import os\n",
    "import sys\n",
    "from glob import glob\n",
    "\n",
    "import numpy as np\n",
    "import pandas as pd\n",
    "\n",
    "import json\n",
    "import cv2 as cv\n",
    "from PIL import Image\n",
    "import matplotlib.pyplot as plt\n",
    "%matplotlib inline\n",
    "\n",
    "basic_packages = [os, sys, glob, np, pd, json, cv, Image, plt]\n",
    "print(\"Packages Version Infos :\")\n",
    "for pname in basic_packages:\n",
    "    try:\n",
    "        print(f\"\\t{pname.__name__}\\t:\\t{pname.__version__}\")\n",
    "    except:\n",
    "        print(f\"\\tmodule '{pname.__name__}' has no attribute '__version__'\")"
   ]
  },
  {
   "cell_type": "code",
   "execution_count": 9,
   "metadata": {},
   "outputs": [],
   "source": [
    "from os.path import split as spt\n",
    "from os.path import join as jn\n",
    "\n",
    "# init path\n",
    "BASE = spt(spt(os.getcwd())[0])[0]\n",
    "CONF = jn(BASE, \"config\")\n",
    "DATA = jn(BASE, \"assets/data/plastic-segmentation\")"
   ]
  },
  {
   "cell_type": "markdown",
   "metadata": {},
   "source": [
    "# comp. Train and Test"
   ]
  },
  {
   "cell_type": "code",
   "execution_count": 10,
   "metadata": {},
   "outputs": [],
   "source": [
    "TRAIN = jn(BASE, \"assets/data/plastic-segmentation/Train\")\n",
    "TEST = jn(BASE, \"assets/data/plastic-segmentation/Test\")\n",
    "\n",
    "PCLS = []\n",
    "paths = {\"image_path\" : [], \"annot_path\": []}\n",
    "\n",
    "for fpath in [TRAIN, TEST]:\n",
    "    kind = os.path.basename(fpath)\n",
    "    BDIR = sorted(os.listdir(fpath))\n",
    "    for bdir in BDIR:\n",
    "        try:\n",
    "            pcls = str(bdir.lower())\n",
    "            assert pcls.startswith(\"p\")\n",
    "            img_path = jn(fpath, bdir)\n",
    "            img_paths = sorted(glob(img_path + \"/*.jpg\"))\n",
    "            (paths['image_path']).extend(img_paths)\n",
    "            PCLS.append(bdir)\n",
    "        except:\n",
    "            for pdir in np.unique(PCLS):\n",
    "                annot_path = jn(fpath, bdir, pdir)\n",
    "                annot_path = sorted(glob(annot_path + \"/*.json\"))\n",
    "                (paths['annot_path']).extend(annot_path)"
   ]
  },
  {
   "cell_type": "code",
   "execution_count": 11,
   "metadata": {},
   "outputs": [],
   "source": [
    "kind = pd.Series([fpath.split('/')[-3] for fpath in paths['image_path']], name=\"kind\")\n",
    "label = pd.Series([fpath.split('/')[-2] for fpath in paths['image_path']], name=\"label\")\n",
    "metainfo_id = pd.Series([(fpath.split('/')[-1]).split('_')[1] for fpath in paths['image_path']], name=\"metainfo_id\").astype(int)\n",
    "feats = pd.Series([(fpath.split('/')[-1]).split('_')[2][:-4] for fpath in paths['image_path']], name=\"feature\").astype(int)\n",
    "\n",
    "baseDF = pd.concat([kind, label, metainfo_id, feats, pd.DataFrame(paths)], axis=1)"
   ]
  },
  {
   "cell_type": "code",
   "execution_count": 12,
   "metadata": {},
   "outputs": [
    {
     "name": "stdout",
     "output_type": "stream",
     "text": [
      "44\n"
     ]
    },
    {
     "data": {
      "text/html": [
       "<div>\n",
       "<style scoped>\n",
       "    .dataframe tbody tr th:only-of-type {\n",
       "        vertical-align: middle;\n",
       "    }\n",
       "\n",
       "    .dataframe tbody tr th {\n",
       "        vertical-align: top;\n",
       "    }\n",
       "\n",
       "    .dataframe thead th {\n",
       "        text-align: right;\n",
       "    }\n",
       "</style>\n",
       "<table border=\"1\" class=\"dataframe\">\n",
       "  <thead>\n",
       "    <tr style=\"text-align: right;\">\n",
       "      <th></th>\n",
       "      <th>index</th>\n",
       "      <th>metainfo_id</th>\n",
       "    </tr>\n",
       "  </thead>\n",
       "  <tbody>\n",
       "    <tr>\n",
       "      <th>0</th>\n",
       "      <td>58</td>\n",
       "      <td>295</td>\n",
       "    </tr>\n",
       "    <tr>\n",
       "      <th>1</th>\n",
       "      <td>76</td>\n",
       "      <td>294</td>\n",
       "    </tr>\n",
       "    <tr>\n",
       "      <th>2</th>\n",
       "      <td>56</td>\n",
       "      <td>277</td>\n",
       "    </tr>\n",
       "    <tr>\n",
       "      <th>3</th>\n",
       "      <td>54</td>\n",
       "      <td>270</td>\n",
       "    </tr>\n",
       "    <tr>\n",
       "      <th>4</th>\n",
       "      <td>50</td>\n",
       "      <td>258</td>\n",
       "    </tr>\n",
       "    <tr>\n",
       "      <th>5</th>\n",
       "      <td>34</td>\n",
       "      <td>183</td>\n",
       "    </tr>\n",
       "    <tr>\n",
       "      <th>6</th>\n",
       "      <td>35</td>\n",
       "      <td>160</td>\n",
       "    </tr>\n",
       "    <tr>\n",
       "      <th>7</th>\n",
       "      <td>74</td>\n",
       "      <td>152</td>\n",
       "    </tr>\n",
       "    <tr>\n",
       "      <th>8</th>\n",
       "      <td>88</td>\n",
       "      <td>152</td>\n",
       "    </tr>\n",
       "    <tr>\n",
       "      <th>9</th>\n",
       "      <td>37</td>\n",
       "      <td>150</td>\n",
       "    </tr>\n",
       "    <tr>\n",
       "      <th>10</th>\n",
       "      <td>75</td>\n",
       "      <td>148</td>\n",
       "    </tr>\n",
       "    <tr>\n",
       "      <th>11</th>\n",
       "      <td>42</td>\n",
       "      <td>140</td>\n",
       "    </tr>\n",
       "    <tr>\n",
       "      <th>12</th>\n",
       "      <td>39</td>\n",
       "      <td>120</td>\n",
       "    </tr>\n",
       "    <tr>\n",
       "      <th>13</th>\n",
       "      <td>38</td>\n",
       "      <td>119</td>\n",
       "    </tr>\n",
       "    <tr>\n",
       "      <th>14</th>\n",
       "      <td>101</td>\n",
       "      <td>119</td>\n",
       "    </tr>\n",
       "    <tr>\n",
       "      <th>15</th>\n",
       "      <td>103</td>\n",
       "      <td>119</td>\n",
       "    </tr>\n",
       "    <tr>\n",
       "      <th>16</th>\n",
       "      <td>89</td>\n",
       "      <td>116</td>\n",
       "    </tr>\n",
       "    <tr>\n",
       "      <th>17</th>\n",
       "      <td>41</td>\n",
       "      <td>114</td>\n",
       "    </tr>\n",
       "    <tr>\n",
       "      <th>18</th>\n",
       "      <td>40</td>\n",
       "      <td>114</td>\n",
       "    </tr>\n",
       "    <tr>\n",
       "      <th>19</th>\n",
       "      <td>7</td>\n",
       "      <td>65</td>\n",
       "    </tr>\n",
       "  </tbody>\n",
       "</table>\n",
       "</div>"
      ],
      "text/plain": [
       "    index  metainfo_id\n",
       "0      58          295\n",
       "1      76          294\n",
       "2      56          277\n",
       "3      54          270\n",
       "4      50          258\n",
       "5      34          183\n",
       "6      35          160\n",
       "7      74          152\n",
       "8      88          152\n",
       "9      37          150\n",
       "10     75          148\n",
       "11     42          140\n",
       "12     39          120\n",
       "13     38          119\n",
       "14    101          119\n",
       "15    103          119\n",
       "16     89          116\n",
       "17     41          114\n",
       "18     40          114\n",
       "19      7           65"
      ]
     },
     "execution_count": 12,
     "metadata": {},
     "output_type": "execute_result"
    }
   ],
   "source": [
    "print(len(baseDF['metainfo_id'].unique()))\n",
    "\n",
    "pd.DataFrame(baseDF['metainfo_id'].value_counts().reset_index()).head(20)"
   ]
  },
  {
   "cell_type": "code",
   "execution_count": 13,
   "metadata": {},
   "outputs": [
    {
     "data": {
      "text/plain": [
       "Index(['kind', 'label', 'metainfo_id', 'feature', 'image_path', 'annot_path'], dtype='object')"
      ]
     },
     "execution_count": 13,
     "metadata": {},
     "output_type": "execute_result"
    }
   ],
   "source": [
    "baseDF.columns"
   ]
  },
  {
   "cell_type": "code",
   "execution_count": 14,
   "metadata": {},
   "outputs": [
    {
     "data": {
      "text/html": [
       "<div>\n",
       "<style scoped>\n",
       "    .dataframe tbody tr th:only-of-type {\n",
       "        vertical-align: middle;\n",
       "    }\n",
       "\n",
       "    .dataframe tbody tr th {\n",
       "        vertical-align: top;\n",
       "    }\n",
       "\n",
       "    .dataframe thead th {\n",
       "        text-align: right;\n",
       "    }\n",
       "</style>\n",
       "<table border=\"1\" class=\"dataframe\">\n",
       "  <thead>\n",
       "    <tr style=\"text-align: right;\">\n",
       "      <th></th>\n",
       "      <th></th>\n",
       "      <th></th>\n",
       "      <th></th>\n",
       "      <th>feature</th>\n",
       "    </tr>\n",
       "    <tr>\n",
       "      <th>kind</th>\n",
       "      <th>label</th>\n",
       "      <th>metainfo_id</th>\n",
       "      <th>feature</th>\n",
       "      <th></th>\n",
       "    </tr>\n",
       "  </thead>\n",
       "  <tbody>\n",
       "    <tr>\n",
       "      <th rowspan=\"5\" valign=\"top\">Test</th>\n",
       "      <th rowspan=\"5\" valign=\"top\">PE</th>\n",
       "      <th rowspan=\"5\" valign=\"top\">74</th>\n",
       "      <th>1</th>\n",
       "      <td>1</td>\n",
       "    </tr>\n",
       "    <tr>\n",
       "      <th>3</th>\n",
       "      <td>1</td>\n",
       "    </tr>\n",
       "    <tr>\n",
       "      <th>5</th>\n",
       "      <td>1</td>\n",
       "    </tr>\n",
       "    <tr>\n",
       "      <th>7</th>\n",
       "      <td>1</td>\n",
       "    </tr>\n",
       "    <tr>\n",
       "      <th>9</th>\n",
       "      <td>1</td>\n",
       "    </tr>\n",
       "    <tr>\n",
       "      <th>...</th>\n",
       "      <th>...</th>\n",
       "      <th>...</th>\n",
       "      <th>...</th>\n",
       "      <td>...</td>\n",
       "    </tr>\n",
       "    <tr>\n",
       "      <th rowspan=\"5\" valign=\"top\">Train</th>\n",
       "      <th rowspan=\"5\" valign=\"top\">PS</th>\n",
       "      <th rowspan=\"5\" valign=\"top\">42</th>\n",
       "      <th>7294</th>\n",
       "      <td>1</td>\n",
       "    </tr>\n",
       "    <tr>\n",
       "      <th>7482</th>\n",
       "      <td>1</td>\n",
       "    </tr>\n",
       "    <tr>\n",
       "      <th>7596</th>\n",
       "      <td>1</td>\n",
       "    </tr>\n",
       "    <tr>\n",
       "      <th>7605</th>\n",
       "      <td>1</td>\n",
       "    </tr>\n",
       "    <tr>\n",
       "      <th>7734</th>\n",
       "      <td>1</td>\n",
       "    </tr>\n",
       "  </tbody>\n",
       "</table>\n",
       "<p>4400 rows × 1 columns</p>\n",
       "</div>"
      ],
      "text/plain": [
       "                                 feature\n",
       "kind  label metainfo_id feature         \n",
       "Test  PE    74          1              1\n",
       "                        3              1\n",
       "                        5              1\n",
       "                        7              1\n",
       "                        9              1\n",
       "...                                  ...\n",
       "Train PS    42          7294           1\n",
       "                        7482           1\n",
       "                        7596           1\n",
       "                        7605           1\n",
       "                        7734           1\n",
       "\n",
       "[4400 rows x 1 columns]"
      ]
     },
     "execution_count": 14,
     "metadata": {},
     "output_type": "execute_result"
    }
   ],
   "source": [
    "pd.DataFrame(baseDF.groupby([\"kind\", \"label\", \"metainfo_id\"])[\"feature\"].value_counts())"
   ]
  },
  {
   "cell_type": "code",
   "execution_count": 15,
   "metadata": {},
   "outputs": [
    {
     "name": "stdout",
     "output_type": "stream",
     "text": [
      "44\n"
     ]
    }
   ],
   "source": [
    "cnt = 0\n",
    "for mid in baseDF['metainfo_id'].unique():\n",
    "    cnt += 1\n",
    "    mid_cls = baseDF[baseDF['metainfo_id']==mid]['label'].unique()\n",
    "    if len(mid_cls)>1:\n",
    "        print(baseDF[baseDF['metainfo_id']==mid]['label'].unique())\n",
    "print(cnt)"
   ]
  },
  {
   "cell_type": "markdown",
   "metadata": {},
   "source": [
    "# Comp. Images and Annots"
   ]
  },
  {
   "cell_type": "markdown",
   "metadata": {},
   "source": [
    "* BBOX 확인 : @qkrwjdduf159 의 이미지 전처리 참고\n",
    "* segmentation\n",
    "  * annot_path -> json.loads(~) -> jsd['annotations/annotation']['segmentation'] : [[pts,,,pts]]\n",
    "  * segmentation의 포인트가 전부 2의 배수인 것을 보면, x,y points가 그들이 어떻게 생성한지 알 수 없는 규칙이지만, 그래도 값은 다 존재함을 알 수 있음."
   ]
  },
  {
   "cell_type": "markdown",
   "metadata": {},
   "source": [
    "## way-1 : 위에서 생성한 변수 그대로 사용하는 방법"
   ]
  },
  {
   "cell_type": "code",
   "execution_count": 16,
   "metadata": {},
   "outputs": [],
   "source": [
    "trnDF = baseDF[baseDF['kind']=='Train']\n",
    "tstDF = baseDF[baseDF['kind']=='Test']"
   ]
  },
  {
   "cell_type": "code",
   "execution_count": 17,
   "metadata": {},
   "outputs": [
    {
     "name": "stdout",
     "output_type": "stream",
     "text": [
      "/Volumes/WORK/Google/Compute-Engine-VM/github-trial/fetched-github-repo/Waste-Recycling-Image-Segmentation/assets/data/plastic-segmentation/Train/PE/PE_074_10.jpg\n",
      "/Volumes/WORK/Google/Compute-Engine-VM/github-trial/fetched-github-repo/Waste-Recycling-Image-Segmentation/assets/data/plastic-segmentation/Train/annotation/PE/PE_074_10.json\n"
     ]
    }
   ],
   "source": [
    "# example\n",
    "print(trnDF[trnDF['label']=='PE']['image_path'][0])\n",
    "print(trnDF[trnDF['label']=='PE']['annot_path'][0])"
   ]
  },
  {
   "cell_type": "code",
   "execution_count": 54,
   "metadata": {},
   "outputs": [
    {
     "name": "stdout",
     "output_type": "stream",
     "text": [
      "[[ 890  837  883  841  877  847  872  854  868  861  863  868  856  875\n",
      "   851  881  845  888  842  895  837  902  834  909  830  916  826  923\n",
      "   822  930  818  937  814  944  809  951  807  958  802  965  800  972\n",
      "   795  979  793  986  792  993  792 1000  795 1007  802 1011  808 1017\n",
      "   815 1019  822 1024  829 1028  836 1033  843 1036  850 1041  857 1044\n",
      "   864 1049  871 1052  878 1056  885 1058  892]\n",
      " [1058  899 1054  906 1049  909 1042  914 1035  918 1028  922 1021  924\n",
      "  1014  930 1007  934 1000  937  993  941  987  945  980  948  973  952\n",
      "   966  957  959  960  952  964  945  966  938  966  931  967  924  968\n",
      "   917  970  910  974  903  980  896  983  889  982  882  977  876  970\n",
      "   874  964  869  957  867  950  865  944  860  937  858  931  854  924\n",
      "   850  917  847  910  843  903  841  896  837]]\n",
      "[[ 890  837]\n",
      " [ 883  841]\n",
      " [ 877  847]\n",
      " [ 872  854]\n",
      " [ 868  861]\n",
      " [ 863  868]\n",
      " [ 856  875]\n",
      " [ 851  881]\n",
      " [ 845  888]\n",
      " [ 842  895]\n",
      " [ 837  902]\n",
      " [ 834  909]\n",
      " [ 830  916]\n",
      " [ 826  923]\n",
      " [ 822  930]\n",
      " [ 818  937]\n",
      " [ 814  944]\n",
      " [ 809  951]\n",
      " [ 807  958]\n",
      " [ 802  965]\n",
      " [ 800  972]\n",
      " [ 795  979]\n",
      " [ 793  986]\n",
      " [ 792  993]\n",
      " [ 792 1000]\n",
      " [ 795 1007]\n",
      " [ 802 1011]\n",
      " [ 808 1017]\n",
      " [ 815 1019]\n",
      " [ 822 1024]\n",
      " [ 829 1028]\n",
      " [ 836 1033]\n",
      " [ 843 1036]\n",
      " [ 850 1041]\n",
      " [ 857 1044]\n",
      " [ 864 1049]\n",
      " [ 871 1052]\n",
      " [ 878 1056]\n",
      " [ 885 1058]\n",
      " [ 892 1058]\n",
      " [ 899 1054]\n",
      " [ 906 1049]\n",
      " [ 909 1042]\n",
      " [ 914 1035]\n",
      " [ 918 1028]\n",
      " [ 922 1021]\n",
      " [ 924 1014]\n",
      " [ 930 1007]\n",
      " [ 934 1000]\n",
      " [ 937  993]\n",
      " [ 941  987]\n",
      " [ 945  980]\n",
      " [ 948  973]\n",
      " [ 952  966]\n",
      " [ 957  959]\n",
      " [ 960  952]\n",
      " [ 964  945]\n",
      " [ 966  938]\n",
      " [ 966  931]\n",
      " [ 967  924]\n",
      " [ 968  917]\n",
      " [ 970  910]\n",
      " [ 974  903]\n",
      " [ 980  896]\n",
      " [ 983  889]\n",
      " [ 982  882]\n",
      " [ 977  876]\n",
      " [ 970  874]\n",
      " [ 964  869]\n",
      " [ 957  867]\n",
      " [ 950  865]\n",
      " [ 944  860]\n",
      " [ 937  858]\n",
      " [ 931  854]\n",
      " [ 924  850]\n",
      " [ 917  847]\n",
      " [ 910  843]\n",
      " [ 903  841]\n",
      " [ 896  837]]\n",
      "[[1383  765 1377  767 1371  770 1365  772 1359  773 1353  777 1347  779\n",
      "  1341  783 1335  785 1329  787 1324  791 1318  792 1312  795 1306  799\n",
      "  1300  800 1294  805 1288  810 1285  816 1285  822 1285  828 1289  834\n",
      "  1290  840 1292  846 1296  852 1297  858 1299  864 1302  870 1303  876\n",
      "  1306  882 1309  888 1310  894 1315  900 1317  906 1322  910 1328  916\n",
      "  1334  921 1339  927 1341  933 1345  939 1347  945 1350  951 1355  957\n",
      "  1361  958 1367]\n",
      " [ 958 1373  957 1379  953 1385  951 1391  950 1397  946 1403  944 1409\n",
      "   943 1415  940 1421  937 1427  936 1433  932 1439  930 1445  928 1450\n",
      "   923 1453  917 1454  911 1452  905 1451  899 1448  893 1445  887 1444\n",
      "   881 1444  875 1444  869 1445  863 1444  857 1444  851 1441  845 1438\n",
      "   839 1436  833 1432  827 1430  821 1426  815 1425  809 1425  803 1421\n",
      "   797 1419  791 1416  785 1413  779 1412  773 1406  770 1400  766 1394\n",
      "   765 1388  765]]\n",
      "[[1383  765]\n",
      " [1377  767]\n",
      " [1371  770]\n",
      " [1365  772]\n",
      " [1359  773]\n",
      " [1353  777]\n",
      " [1347  779]\n",
      " [1341  783]\n",
      " [1335  785]\n",
      " [1329  787]\n",
      " [1324  791]\n",
      " [1318  792]\n",
      " [1312  795]\n",
      " [1306  799]\n",
      " [1300  800]\n",
      " [1294  805]\n",
      " [1288  810]\n",
      " [1285  816]\n",
      " [1285  822]\n",
      " [1285  828]\n",
      " [1289  834]\n",
      " [1290  840]\n",
      " [1292  846]\n",
      " [1296  852]\n",
      " [1297  858]\n",
      " [1299  864]\n",
      " [1302  870]\n",
      " [1303  876]\n",
      " [1306  882]\n",
      " [1309  888]\n",
      " [1310  894]\n",
      " [1315  900]\n",
      " [1317  906]\n",
      " [1322  910]\n",
      " [1328  916]\n",
      " [1334  921]\n",
      " [1339  927]\n",
      " [1341  933]\n",
      " [1345  939]\n",
      " [1347  945]\n",
      " [1350  951]\n",
      " [1355  957]\n",
      " [1361  958]\n",
      " [1367  958]\n",
      " [1373  957]\n",
      " [1379  953]\n",
      " [1385  951]\n",
      " [1391  950]\n",
      " [1397  946]\n",
      " [1403  944]\n",
      " [1409  943]\n",
      " [1415  940]\n",
      " [1421  937]\n",
      " [1427  936]\n",
      " [1433  932]\n",
      " [1439  930]\n",
      " [1445  928]\n",
      " [1450  923]\n",
      " [1453  917]\n",
      " [1454  911]\n",
      " [1452  905]\n",
      " [1451  899]\n",
      " [1448  893]\n",
      " [1445  887]\n",
      " [1444  881]\n",
      " [1444  875]\n",
      " [1444  869]\n",
      " [1445  863]\n",
      " [1444  857]\n",
      " [1444  851]\n",
      " [1441  845]\n",
      " [1438  839]\n",
      " [1436  833]\n",
      " [1432  827]\n",
      " [1430  821]\n",
      " [1426  815]\n",
      " [1425  809]\n",
      " [1425  803]\n",
      " [1421  797]\n",
      " [1419  791]\n",
      " [1416  785]\n",
      " [1413  779]\n",
      " [1412  773]\n",
      " [1406  770]\n",
      " [1400  766]\n",
      " [1394  765]\n",
      " [1388  765]]\n",
      "[[1149  409 1142  415 1140  422 1138  429 1136  436 1136  443 1135  450\n",
      "  1132  457 1127  464 1121  471 1119  478 1118  485 1117  492 1115  499\n",
      "  1114  506 1114  513 1114  520 1113  527 1111  534 1110  541 1109  548\n",
      "  1109  555 1109  562 1110  569 1114  575 1121  581 1128  583 1135  584\n",
      "  1142  587 1149  588 1156  589 1163  589 1170  590 1177  593 1184  594\n",
      "  1191  595 1198  595 1205  595 1212  595 1219  595]\n",
      " [1226  595 1233  591 1240  588 1243  581 1246  574 1247  567 1247  560\n",
      "  1248  553 1249  546 1250  539 1252  532 1252  525 1252  518 1253  511\n",
      "  1255  504 1257  497 1256  490 1253  483 1250  476 1248  469 1248  462\n",
      "  1248  455 1248  448 1250  441 1251  434 1249  427 1243  422 1236  418\n",
      "  1229  416 1222  416 1215  415 1208  413 1201  411 1194  410 1187  409\n",
      "  1180  409 1173  409 1166  409 1159  409 1152  409]]\n",
      "[[1149  409]\n",
      " [1142  415]\n",
      " [1140  422]\n",
      " [1138  429]\n",
      " [1136  436]\n",
      " [1136  443]\n",
      " [1135  450]\n",
      " [1132  457]\n",
      " [1127  464]\n",
      " [1121  471]\n",
      " [1119  478]\n",
      " [1118  485]\n",
      " [1117  492]\n",
      " [1115  499]\n",
      " [1114  506]\n",
      " [1114  513]\n",
      " [1114  520]\n",
      " [1113  527]\n",
      " [1111  534]\n",
      " [1110  541]\n",
      " [1109  548]\n",
      " [1109  555]\n",
      " [1109  562]\n",
      " [1110  569]\n",
      " [1114  575]\n",
      " [1121  581]\n",
      " [1128  583]\n",
      " [1135  584]\n",
      " [1142  587]\n",
      " [1149  588]\n",
      " [1156  589]\n",
      " [1163  589]\n",
      " [1170  590]\n",
      " [1177  593]\n",
      " [1184  594]\n",
      " [1191  595]\n",
      " [1198  595]\n",
      " [1205  595]\n",
      " [1212  595]\n",
      " [1219  595]\n",
      " [1226  595]\n",
      " [1233  591]\n",
      " [1240  588]\n",
      " [1243  581]\n",
      " [1246  574]\n",
      " [1247  567]\n",
      " [1247  560]\n",
      " [1248  553]\n",
      " [1249  546]\n",
      " [1250  539]\n",
      " [1252  532]\n",
      " [1252  525]\n",
      " [1252  518]\n",
      " [1253  511]\n",
      " [1255  504]\n",
      " [1257  497]\n",
      " [1256  490]\n",
      " [1253  483]\n",
      " [1250  476]\n",
      " [1248  469]\n",
      " [1248  462]\n",
      " [1248  455]\n",
      " [1248  448]\n",
      " [1250  441]\n",
      " [1251  434]\n",
      " [1249  427]\n",
      " [1243  422]\n",
      " [1236  418]\n",
      " [1229  416]\n",
      " [1222  416]\n",
      " [1215  415]\n",
      " [1208  413]\n",
      " [1201  411]\n",
      " [1194  410]\n",
      " [1187  409]\n",
      " [1180  409]\n",
      " [1173  409]\n",
      " [1166  409]\n",
      " [1159  409]\n",
      " [1152  409]]\n"
     ]
    }
   ],
   "source": [
    "trial_img = trnDF[trnDF['label']=='PE']['image_path'][0]\n",
    "trial_ant = trnDF[trnDF['label']=='PE']['annot_path'][0]\n",
    "\n",
    "with open(trial_ant, 'r') as jsf:\n",
    "    jsd = json.loads(jsf.read())\n",
    "# 진짜 읽어오는 것 자체는 문제가 없는데, 이들이 general하지 않은 방법으로 json을 작성했거나, 내가 json을 아직 70%도 이해하지 못했거나 무튼 그럼\n",
    "\n",
    "segmt = []\n",
    "for obj in range(len(jsd['annotations'])):\n",
    "    segmt.extend(jsd['annotations'][obj]['segmentation'])\n",
    "for seg in segmt:\n",
    "    print(np.array(seg).reshape(2,-1))  # [[x_0,...,x_n-1], [y_0,...,y_n-1]]\n",
    "    print(np.array(seg).reshape(-1,2))  # [[x_0, y_0],...,[x_n-1,y_n-1]]\n",
    "    # 각 값이 매칭되는 결과가 다른만큼 검증은 두 차례에 걸쳐서 이루어져야 함"
   ]
  },
  {
   "cell_type": "code",
   "execution_count": 57,
   "metadata": {},
   "outputs": [],
   "source": [
    "# ground width, height\n",
    "W, H = jsd['images'][0]['width'], jsd['images'][0]['height']\n",
    "# json 파일에 다시 [0] 이런 식으로 list를 푸는 게 말이 되는건지... \n",
    "sketch = np.zeros((W, H), dtype=np.uint8)\n",
    "\n",
    "segmt_2byn = []\n",
    "segmt_nby2 = []\n",
    "for obj in range(len(jsd['annotations'])):\n",
    "    twobyn = np.array(jsd['annotations'][obj]['segmentation']).reshape(2,-1)\n",
    "    nbytwo = np.array(jsd['annotations'][obj]['segmentation']).reshape(-1,2)\n",
    "    segmt_2byn.append(twobyn)\n",
    "    segmt_nby2.append(nbytwo)"
   ]
  },
  {
   "cell_type": "code",
   "execution_count": 98,
   "metadata": {},
   "outputs": [
    {
     "data": {
      "text/plain": [
       "array([[122,  69, 115,  73, 109,  79, 104,  86, 100,  93,  95, 100,  88,\n",
       "        107,  83, 113,  77, 120,  74, 127,  69, 134,  66, 141,  62, 148,\n",
       "         58, 155,  54, 162,  50, 169,  46, 176,  41, 183,  39, 190,  34,\n",
       "        197,  32, 204,  27, 211,  25, 218,  24, 225,  24, 232,  27, 239,\n",
       "         34, 243,  40, 249,  47, 251,  54,   0,  61,   4,  68,   9,  75,\n",
       "         12,  82,  17,  89,  20,  96,  25, 103,  28, 110,  32, 117,  34,\n",
       "        124],\n",
       "       [ 34, 131,  30, 138,  25, 141,  18, 146,  11, 150,   4, 154, 253,\n",
       "        156, 246, 162, 239, 166, 232, 169, 225, 173, 219, 177, 212, 180,\n",
       "        205, 184, 198, 189, 191, 192, 184, 196, 177, 198, 170, 198, 163,\n",
       "        199, 156, 200, 149, 202, 142, 206, 135, 212, 128, 215, 121, 214,\n",
       "        114, 209, 108, 202, 106, 196, 101, 189,  99, 182,  97, 176,  92,\n",
       "        169,  90, 163,  86, 156,  82, 149,  79, 142,  75, 135,  73, 128,\n",
       "         69]], dtype=uint8)"
      ]
     },
     "execution_count": 98,
     "metadata": {},
     "output_type": "execute_result"
    }
   ],
   "source": [
    "# [[x 좌표값],[y 좌표값]]\n",
    "segmt_2byn[0].astype('uint8')"
   ]
  },
  {
   "cell_type": "code",
   "execution_count": 87,
   "metadata": {},
   "outputs": [
    {
     "data": {
      "text/plain": [
       "(79, 2)"
      ]
     },
     "execution_count": 87,
     "metadata": {},
     "output_type": "execute_result"
    }
   ],
   "source": [
    "((segmt_2byn[0]).T).shape#[0]\n",
    "#.squeeze()).T[1]"
   ]
  },
  {
   "cell_type": "code",
   "execution_count": 114,
   "metadata": {},
   "outputs": [
    {
     "data": {
      "text/plain": [
       "<matplotlib.image.AxesImage at 0x128c81b80>"
      ]
     },
     "execution_count": 114,
     "metadata": {},
     "output_type": "execute_result"
    },
    {
     "data": {
      "image/png": "[encoded data removed]",
      "text/plain": [
       "<Figure size 432x288 with 1 Axes>"
      ]
     },
     "metadata": {
      "needs_background": "light"
     },
     "output_type": "display_data"
    }
   ],
   "source": [
    "sketch = np.zeros((W, H, 3), dtype=np.uint8)\n",
    "\n",
    "for segs in segmt_2byn:\n",
    "    # segs = segs.astype('uint8')\n",
    "    segs = segs.T\n",
    "    for pts in segs:    # pts[0]:x, pts[1]:y라 가정\n",
    "        cv.circle(sketch, (pts[0], pts[1]), 5, (255, 255, 255), -1)\n",
    "plt.imshow(sketch)"
   ]
  },
  {
   "cell_type": "markdown",
   "metadata": {},
   "source": [
    "위와 같이 이상한 그림이 그려지는 것을 보아, 아래의 방법이 맞을 것 같음. 우선 계속 진행"
   ]
  },
  {
   "cell_type": "code",
   "execution_count": 62,
   "metadata": {},
   "outputs": [
    {
     "data": {
      "text/plain": [
       "(79, 2)"
      ]
     },
     "execution_count": 62,
     "metadata": {},
     "output_type": "execute_result"
    }
   ],
   "source": [
    "# [[x,y],...,[x,y]]\n",
    "segmt_nby2[0].shape"
   ]
  },
  {
   "cell_type": "code",
   "execution_count": 115,
   "metadata": {},
   "outputs": [
    {
     "data": {
      "text/plain": [
       "array([890, 883, 877, 872, 868, 863, 856, 851, 845, 842])"
      ]
     },
     "execution_count": 115,
     "metadata": {},
     "output_type": "execute_result"
    }
   ],
   "source": [
    "(segmt_nby2[0][:10]).T[0]#.squeeze()).T[1]"
   ]
  },
  {
   "cell_type": "code",
   "execution_count": 121,
   "metadata": {},
   "outputs": [
    {
     "data": {
      "text/plain": [
       "<matplotlib.image.AxesImage at 0x128b1f040>"
      ]
     },
     "execution_count": 121,
     "metadata": {},
     "output_type": "execute_result"
    },
    {
     "data": {
      "image/png": "[encoded data removed]",
      "text/plain": [
       "<Figure size 432x288 with 1 Axes>"
      ]
     },
     "metadata": {
      "needs_background": "light"
     },
     "output_type": "display_data"
    }
   ],
   "source": [
    "sketch = np.zeros((W, H, 3), dtype=np.uint8)\n",
    "\n",
    "for segs in segmt_nby2:\n",
    "    for pts in segs:\n",
    "        cv.circle(sketch, (pts[0], pts[1]), 5, (255, 255, 255), -1) \n",
    "plt.imshow(sketch)"
   ]
  },
  {
   "cell_type": "code",
   "execution_count": 140,
   "metadata": {},
   "outputs": [
    {
     "data": {
      "text/plain": [
       "<matplotlib.image.AxesImage at 0x12929d1c0>"
      ]
     },
     "execution_count": 140,
     "metadata": {},
     "output_type": "execute_result"
    },
    {
     "data": {
      "image/png": "[encoded data removed]",
      "text/plain": [
       "<Figure size 432x288 with 1 Axes>"
      ]
     },
     "metadata": {
      "needs_background": "light"
     },
     "output_type": "display_data"
    }
   ],
   "source": [
    "image_0 = cv.imread(trial_img)\n",
    "image_0 = cv.cvtColor(image_0, cv.COLOR_BGR2RGB)\n",
    "\n",
    "plt.grid(color=\"white\", linestyle=\"dashdot\", linewidth=.5)\n",
    "image_0_check = image_0.copy()\n",
    "for segs in segmt_nby2:\n",
    "    for pts in segs:\n",
    "        cv.circle(image_0_check, (pts[0], pts[1]), 5, (255, 0, 255), -1) # cv로 가면 H,W,C인 것처럼 x,y가 아니라 y,x같기도 함(이 부분은 대회끝나고 천천히 확인)\n",
    "plt.xticks([num for num in range(0, W+1, 250)])        \n",
    "plt.imshow(image_0_check)"
   ]
  },
  {
   "cell_type": "code",
   "execution_count": 19,
   "metadata": {},
   "outputs": [],
   "source": [
    "# mask 배열에서 윤곽 좌표 파악\n",
    "## 현재 대회는 이미 segmentation으로 주어진 값이 있기 때문에 추가적인 함수는 작성하지 않음\n",
    "\n",
    "# [[x,y],...,[x,y]]\n",
    "segmt_nby2 = []\n",
    "for obj in range(len(jsd['annotations'])):\n",
    "    nbytwo = np.array(jsd['annotations'][obj]['segmentation']).reshape(-1,2)\n",
    "    segmt_nby2.append(nbytwo)\n",
    "\n",
    "# 윤곽선만 가져올 경우\n",
    "def contoursPts(image):\n",
    "    ''' \n",
    "    def \"contours\" 에 이미지 파일을 입력하기 전, 모든 이미지는 RGB형태로 입력되어야 함(필수는 아닌데, 조건 추가 생성 귀찮..)\n",
    "    '''\n",
    "    img = image.copy()\n",
    "    img_gray = cv.cvtColor(img, cv.COLOR_RGB2GRAY)\n",
    "    res, thr    ## 여기서부터 추가 작성해야 함"
   ]
  },
  {
   "cell_type": "markdown",
   "metadata": {},
   "source": [
    "## way-2 : ./config 에 생성한 함수 사용\n",
    "\n",
    "```bash\n",
    "%load \"{CONF}/annots_cv.py\"\n",
    "%load \"{CONF}/LoadDataset.py\"\n",
    "```"
   ]
  },
  {
   "cell_type": "code",
   "execution_count": 20,
   "metadata": {},
   "outputs": [
    {
     "data": {
      "text/plain": [
       "'//assets/Train/'"
      ]
     },
     "execution_count": 20,
     "metadata": {},
     "output_type": "execute_result"
    }
   ],
   "source": [
    "# jn(BASE, NONE, \"assets\")\n",
    "\"/\".join(list(map(lambda x : \"\".join(x) if x != None else \"\" ,[None, \"/assets\", \"Train\",None])))"
   ]
  },
  {
   "cell_type": "code",
   "execution_count": 21,
   "metadata": {},
   "outputs": [
    {
     "data": {
      "text/plain": [
       "['assets']"
      ]
     },
     "execution_count": 21,
     "metadata": {},
     "output_type": "execute_result"
    }
   ],
   "source": [
    "[p for p in \"/assets\".split('/') if p != \"\"]"
   ]
  },
  {
   "cell_type": "code",
   "execution_count": null,
   "metadata": {},
   "outputs": [],
   "source": []
  }
 ],
 "metadata": {
  "interpreter": {
   "hash": "e115d54dd90a75549f2204983b9caf37b3ffb58d2f9933684bb50545b76bee6c"
  },
  "kernelspec": {
   "display_name": "Python 3.9.7 64-bit ('gh-3.9.7': pyenv)",
   "language": "python",
   "name": "python3"
  },
  "language_info": {
   "codemirror_mode": {
    "name": "ipython",
    "version": 3
   },
   "file_extension": ".py",
   "mimetype": "text/x-python",
   "name": "python",
   "nbconvert_exporter": "python",
   "pygments_lexer": "ipython3",
   "version": "3.9.7"
  },
  "orig_nbformat": 4
 },
 "nbformat": 4,
 "nbformat_minor": 2
}
