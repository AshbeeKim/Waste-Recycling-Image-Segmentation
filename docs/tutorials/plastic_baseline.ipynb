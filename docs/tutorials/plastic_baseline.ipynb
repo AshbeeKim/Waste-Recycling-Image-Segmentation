{
  "cells": [
    {
      "cell_type": "code",
      "execution_count": 55,
      "metadata": {
        "colab": {
          "base_uri": "https://localhost:8080/",
          "height": 0
        },
        "id": "QvQIyPLAlm4R",
        "outputId": "35ec49f7-af3e-401a-839d-97c88763b75e"
      },
      "outputs": [],
      "source": [
        "import os\n",
        "import sys\n",
        "import json\n",
        "from glob import glob\n",
        "# from google.colab import drive\n",
        "# from google.colab import files\n",
        "\n",
        "# ROOT = \"/content/drive\"\n",
        "# ROOT = os.getcwd()    \n",
        "# 만약 함수로 짜야한다면, 최상단에 main.py로 작성할 때 주로 사용하는 경로이나, 주피터에선 ㄴㄴ\n",
        "\n",
        "ROOT = \"/Volumes/WORK/Google/Colab-Server-VM/Waste-Recycling-Image-Segmentation\"\n",
        "# os로 경로 자유자재로 설정하는 부분은 다시 봐야함\n",
        "\n",
        "# try:\n",
        "#     drive.mount(ROOT)\n",
        "# except:\n",
        "#     drive.mount(ROOT, force_remount=True)\n",
        "\n",
        "# TASK_PATH = \"MyDrive/Task/plastic-segmentation/Data\"\n",
        "TASK_PATH = \"assets/data/plastic-segmentation\"\n",
        "\n",
        "TRN_PATH = os.path.join(ROOT, TASK_PATH, \"Train\")\n",
        "TST_PATH = os.path.join(ROOT, TASK_PATH, \"Test\")"
      ]
    },
    {
      "cell_type": "code",
      "execution_count": 56,
      "metadata": {
        "id": "jjJ7foYlnkeI"
      },
      "outputs": [],
      "source": [
        "PCLS = [\"PE\", \"PET\", \"PP\"]  # , \"PS\" 테스트 데이터가 이상하게 들어가서 우선은 리스트에 넣지 않고 빼도록 함\n",
        "\n",
        "trn_paths = {\"image_path\" : [], \"annot_path\": []}\n",
        "tst_paths = {\"image_path\" : [], \"annot_path\": []}\n",
        "\n",
        "for fpath in [TRN_PATH, TST_PATH]:\n",
        "    for pcls in PCLS:\n",
        "        img_path = os.path.join(fpath, pcls)\n",
        "        img_paths = sorted(glob(img_path + \"/*.jpg\"))\n",
        "        if fpath.split('/')[-1]==\"Train\":\n",
        "            annot_path = os.path.join(fpath, \"annotation\", pcls)\n",
        "            trn_paths[\"image_path\"].extend(img_paths)\n",
        "            trn_paths[\"annot_path\"].extend(sorted(glob(annot_path + \"/*.json\")))\n",
        "        elif fpath.split('/')[-1]==\"Test\":\n",
        "            annot_path = os.path.join(fpath, \"annotations\", pcls)\n",
        "            tst_paths[\"image_path\"].extend(img_paths)\n",
        "            tst_paths[\"annot_path\"].extend(sorted(glob(annot_path + \"/*.json\")))"
      ]
    },
    {
      "cell_type": "code",
      "execution_count": 57,
      "metadata": {
        "colab": {
          "base_uri": "https://localhost:8080/"
        },
        "id": "gLI20aig6wX7",
        "outputId": "031a3a10-bc41-4ef9-f76a-50e6f5e80cef"
      },
      "outputs": [
        {
          "data": {
            "text/plain": [
              "image_path     PE_074_10.jpg\n",
              "annot_path    PE_074_10.json\n",
              "Name: 0, dtype: object"
            ]
          },
          "execution_count": 57,
          "metadata": {},
          "output_type": "execute_result"
        }
      ],
      "source": [
        "import pandas as pd\n",
        "pd.DataFrame(trn_paths).iloc[0,:].apply(lambda x:x.split('/')[-1])"
      ]
    },
    {
      "cell_type": "code",
      "execution_count": 58,
      "metadata": {
        "colab": {
          "base_uri": "https://localhost:8080/",
          "height": 424
        },
        "id": "YEMRhaLH5jZ0",
        "outputId": "b3e70a94-c6ce-49e2-9184-d1766ba4dde5"
      },
      "outputs": [
        {
          "data": {
            "text/html": [
              "<div>\n",
              "<style scoped>\n",
              "    .dataframe tbody tr th:only-of-type {\n",
              "        vertical-align: middle;\n",
              "    }\n",
              "\n",
              "    .dataframe tbody tr th {\n",
              "        vertical-align: top;\n",
              "    }\n",
              "\n",
              "    .dataframe thead th {\n",
              "        text-align: right;\n",
              "    }\n",
              "</style>\n",
              "<table border=\"1\" class=\"dataframe\">\n",
              "  <thead>\n",
              "    <tr style=\"text-align: right;\">\n",
              "      <th></th>\n",
              "      <th>image_path</th>\n",
              "      <th>annot_path</th>\n",
              "      <th>classes</th>\n",
              "      <th>feats_1</th>\n",
              "      <th>feats_2</th>\n",
              "    </tr>\n",
              "  </thead>\n",
              "  <tbody>\n",
              "    <tr>\n",
              "      <th>0</th>\n",
              "      <td>/Volumes/WORK/Google/Colab-Server-VM/Waste-Rec...</td>\n",
              "      <td>/Volumes/WORK/Google/Colab-Server-VM/Waste-Rec...</td>\n",
              "      <td>PE</td>\n",
              "      <td>074</td>\n",
              "      <td>10</td>\n",
              "    </tr>\n",
              "    <tr>\n",
              "      <th>1</th>\n",
              "      <td>/Volumes/WORK/Google/Colab-Server-VM/Waste-Rec...</td>\n",
              "      <td>/Volumes/WORK/Google/Colab-Server-VM/Waste-Rec...</td>\n",
              "      <td>PE</td>\n",
              "      <td>074</td>\n",
              "      <td>100</td>\n",
              "    </tr>\n",
              "    <tr>\n",
              "      <th>2</th>\n",
              "      <td>/Volumes/WORK/Google/Colab-Server-VM/Waste-Rec...</td>\n",
              "      <td>/Volumes/WORK/Google/Colab-Server-VM/Waste-Rec...</td>\n",
              "      <td>PE</td>\n",
              "      <td>074</td>\n",
              "      <td>101</td>\n",
              "    </tr>\n",
              "    <tr>\n",
              "      <th>3</th>\n",
              "      <td>/Volumes/WORK/Google/Colab-Server-VM/Waste-Rec...</td>\n",
              "      <td>/Volumes/WORK/Google/Colab-Server-VM/Waste-Rec...</td>\n",
              "      <td>PE</td>\n",
              "      <td>074</td>\n",
              "      <td>102</td>\n",
              "    </tr>\n",
              "    <tr>\n",
              "      <th>4</th>\n",
              "      <td>/Volumes/WORK/Google/Colab-Server-VM/Waste-Rec...</td>\n",
              "      <td>/Volumes/WORK/Google/Colab-Server-VM/Waste-Rec...</td>\n",
              "      <td>PE</td>\n",
              "      <td>074</td>\n",
              "      <td>103</td>\n",
              "    </tr>\n",
              "    <tr>\n",
              "      <th>...</th>\n",
              "      <td>...</td>\n",
              "      <td>...</td>\n",
              "      <td>...</td>\n",
              "      <td>...</td>\n",
              "      <td>...</td>\n",
              "    </tr>\n",
              "    <tr>\n",
              "      <th>2995</th>\n",
              "      <td>/Volumes/WORK/Google/Colab-Server-VM/Waste-Rec...</td>\n",
              "      <td>/Volumes/WORK/Google/Colab-Server-VM/Waste-Rec...</td>\n",
              "      <td>PP</td>\n",
              "      <td>058</td>\n",
              "      <td>8929</td>\n",
              "    </tr>\n",
              "    <tr>\n",
              "      <th>2996</th>\n",
              "      <td>/Volumes/WORK/Google/Colab-Server-VM/Waste-Rec...</td>\n",
              "      <td>/Volumes/WORK/Google/Colab-Server-VM/Waste-Rec...</td>\n",
              "      <td>PP</td>\n",
              "      <td>058</td>\n",
              "      <td>8995</td>\n",
              "    </tr>\n",
              "    <tr>\n",
              "      <th>2997</th>\n",
              "      <td>/Volumes/WORK/Google/Colab-Server-VM/Waste-Rec...</td>\n",
              "      <td>/Volumes/WORK/Google/Colab-Server-VM/Waste-Rec...</td>\n",
              "      <td>PP</td>\n",
              "      <td>058</td>\n",
              "      <td>908</td>\n",
              "    </tr>\n",
              "    <tr>\n",
              "      <th>2998</th>\n",
              "      <td>/Volumes/WORK/Google/Colab-Server-VM/Waste-Rec...</td>\n",
              "      <td>/Volumes/WORK/Google/Colab-Server-VM/Waste-Rec...</td>\n",
              "      <td>PP</td>\n",
              "      <td>058</td>\n",
              "      <td>910</td>\n",
              "    </tr>\n",
              "    <tr>\n",
              "      <th>2999</th>\n",
              "      <td>/Volumes/WORK/Google/Colab-Server-VM/Waste-Rec...</td>\n",
              "      <td>/Volumes/WORK/Google/Colab-Server-VM/Waste-Rec...</td>\n",
              "      <td>PP</td>\n",
              "      <td>058</td>\n",
              "      <td>92</td>\n",
              "    </tr>\n",
              "  </tbody>\n",
              "</table>\n",
              "<p>3000 rows × 5 columns</p>\n",
              "</div>"
            ],
            "text/plain": [
              "                                             image_path  \\\n",
              "0     /Volumes/WORK/Google/Colab-Server-VM/Waste-Rec...   \n",
              "1     /Volumes/WORK/Google/Colab-Server-VM/Waste-Rec...   \n",
              "2     /Volumes/WORK/Google/Colab-Server-VM/Waste-Rec...   \n",
              "3     /Volumes/WORK/Google/Colab-Server-VM/Waste-Rec...   \n",
              "4     /Volumes/WORK/Google/Colab-Server-VM/Waste-Rec...   \n",
              "...                                                 ...   \n",
              "2995  /Volumes/WORK/Google/Colab-Server-VM/Waste-Rec...   \n",
              "2996  /Volumes/WORK/Google/Colab-Server-VM/Waste-Rec...   \n",
              "2997  /Volumes/WORK/Google/Colab-Server-VM/Waste-Rec...   \n",
              "2998  /Volumes/WORK/Google/Colab-Server-VM/Waste-Rec...   \n",
              "2999  /Volumes/WORK/Google/Colab-Server-VM/Waste-Rec...   \n",
              "\n",
              "                                             annot_path classes feats_1  \\\n",
              "0     /Volumes/WORK/Google/Colab-Server-VM/Waste-Rec...      PE     074   \n",
              "1     /Volumes/WORK/Google/Colab-Server-VM/Waste-Rec...      PE     074   \n",
              "2     /Volumes/WORK/Google/Colab-Server-VM/Waste-Rec...      PE     074   \n",
              "3     /Volumes/WORK/Google/Colab-Server-VM/Waste-Rec...      PE     074   \n",
              "4     /Volumes/WORK/Google/Colab-Server-VM/Waste-Rec...      PE     074   \n",
              "...                                                 ...     ...     ...   \n",
              "2995  /Volumes/WORK/Google/Colab-Server-VM/Waste-Rec...      PP     058   \n",
              "2996  /Volumes/WORK/Google/Colab-Server-VM/Waste-Rec...      PP     058   \n",
              "2997  /Volumes/WORK/Google/Colab-Server-VM/Waste-Rec...      PP     058   \n",
              "2998  /Volumes/WORK/Google/Colab-Server-VM/Waste-Rec...      PP     058   \n",
              "2999  /Volumes/WORK/Google/Colab-Server-VM/Waste-Rec...      PP     058   \n",
              "\n",
              "     feats_2  \n",
              "0         10  \n",
              "1        100  \n",
              "2        101  \n",
              "3        102  \n",
              "4        103  \n",
              "...      ...  \n",
              "2995    8929  \n",
              "2996    8995  \n",
              "2997     908  \n",
              "2998     910  \n",
              "2999      92  \n",
              "\n",
              "[3000 rows x 5 columns]"
            ]
          },
          "execution_count": 58,
          "metadata": {},
          "output_type": "execute_result"
        }
      ],
      "source": [
        "import pandas as pd\n",
        "# trn_paths[\"datas\"] = list(map(lambda x: (x.split('/')[-4]).lower(),trn_paths[\"annot_path\"]))\n",
        "# tst_paths[\"datas\"] = list(map(lambda x: (x.split('/')[-4]).lower(),tst_paths[\"annot_path\"]))\n",
        "## 이미 변수로 구분해서 필요없음\n",
        "\n",
        "trn_paths[\"classes\"] = list(map(lambda x: (x.split('/')[-1]).split('_')[0],trn_paths[\"annot_path\"]))\n",
        "trn_paths[\"feats_1\"] = list(map(lambda x: (x.split('/')[-1]).split('_')[1],trn_paths[\"annot_path\"]))\n",
        "trn_paths[\"feats_2\"] = list(map(lambda x: (x.split('/')[-1]).split('_')[-1][:-5],trn_paths[\"annot_path\"]))\n",
        "\n",
        "tst_paths[\"classes\"] = list(map(lambda x: (x.split('/')[-1]).split('_')[0],tst_paths[\"annot_path\"]))\n",
        "tst_paths[\"feats_1\"] = list(map(lambda x: (x.split('/')[-1]).split('_')[1],tst_paths[\"annot_path\"]))\n",
        "tst_paths[\"feats_2\"] = list(map(lambda x: (x.split('/')[-1]).split('_')[-1][:-5],tst_paths[\"annot_path\"]))\n",
        "\n",
        "pd.DataFrame(trn_paths)\n",
        "# yml\n",
        "# pyenv conda 어떤 것을 설치해야하는지\n",
        "# 모델을 이미지 특성별 돌려야 함은 이전에 회의한 부분.\n",
        "# 세부 모델을 몇 단계까지 고려해야할지는 데이터를 중간중간 확인하면 진행해야 함\n",
        "# 그렇다면 우선적으로 처리해야 할 부분은...?\n",
        "# model/__main__.py\n",
        "#           |__init__.py\n",
        "#           |__PE\n",
        "#           |__...\n",
        "#           |__PS\n",
        "# feats_1과 feats_2를 어떻게 받고 처리할지는 우선 위의 flow를 다 작성한 뒤, 진행\n",
        "# feats_1 == metainfo_id"
      ]
    },
    {
      "cell_type": "code",
      "execution_count": 59,
      "metadata": {
        "colab": {
          "base_uri": "https://localhost:8080/"
        },
        "id": "bR1c1rDe9ql4",
        "outputId": "969e39b6-310f-4d02-fc16-bf27a952e44f"
      },
      "outputs": [],
      "source": [
        "# train annotations[0]\n",
        "with open(trn_paths[\"annot_path\"][0], \"rb\") as jsf:\n",
        "    # jsd = json.loads(jsf.read())\n",
        "    jsd = json.load(jsf)\n",
        "\n",
        "# jsd.keys()\n",
        "# dict_keys(['images', 'categories', 'annotations', 'info', 'metainfo'])"
      ]
    },
    {
      "cell_type": "code",
      "execution_count": 77,
      "metadata": {},
      "outputs": [
        {
          "name": "stdout",
          "output_type": "stream",
          "text": [
            "   width  height  id      file_name\n",
            "0   2048    2048   1  PE_074_10.jpg\n",
            "   id name\n",
            "0   1  pet\n",
            "1   2   ps\n",
            "2   3   pp\n",
            "3   4   pe\n",
            "year                2021\n",
            "version              1.0\n",
            "contributor    datamaker\n",
            "Name: info, dtype: object\n"
          ]
        }
      ],
      "source": [
        "'''\n",
        "# images\n",
        "width = image total width\n",
        "height = image total height\n",
        "id -->> annotations/image_id\n",
        "file_name = image file name\n",
        "** annotation 검증 단계에서만 사용될 듯\n",
        "++ annotation 활용까지는 config로 ㄱ?\n",
        "'''\n",
        "print(pd.DataFrame(jsd['images']))\n",
        "\n",
        "''' \n",
        "# categories\n",
        "object's metainfo\n",
        "있어야 하나??? 이미 폴더 구조로 정보를 다 주었는데,,,이렇게 넣은 건...각각 따로 봐라??\n",
        "아니면 오브젝트 전체의 집합......도와줘요 연제님\n",
        "'''\n",
        "print(pd.DataFrame(jsd['categories']))\n",
        "\n",
        "''' \n",
        "# info\n",
        "\n",
        "별로 중요한 변수는 아니라고 생각되나, 'year'를 추출해야할 수 있을 수 있음\n",
        "예, 해가 바뀌며 재활용 분류 기준이 달라지거나, 호칭 및 명칭이 달라진 경우. (없을 것 같지만,,,)\n",
        "'''\n",
        "print(pd.Series(jsd['info'], name='info'))"
      ]
    },
    {
      "cell_type": "code",
      "execution_count": 60,
      "metadata": {},
      "outputs": [
        {
          "data": {
            "text/html": [
              "<div>\n",
              "<style scoped>\n",
              "    .dataframe tbody tr th:only-of-type {\n",
              "        vertical-align: middle;\n",
              "    }\n",
              "\n",
              "    .dataframe tbody tr th {\n",
              "        vertical-align: top;\n",
              "    }\n",
              "\n",
              "    .dataframe thead th {\n",
              "        text-align: right;\n",
              "    }\n",
              "</style>\n",
              "<table border=\"1\" class=\"dataframe\">\n",
              "  <thead>\n",
              "    <tr style=\"text-align: right;\">\n",
              "      <th></th>\n",
              "      <th>id</th>\n",
              "      <th>image_id</th>\n",
              "      <th>category_id</th>\n",
              "      <th>metainfo_id</th>\n",
              "      <th>segmentation</th>\n",
              "      <th>bbox</th>\n",
              "      <th>ignore</th>\n",
              "      <th>iscrowd</th>\n",
              "      <th>area</th>\n",
              "    </tr>\n",
              "  </thead>\n",
              "  <tbody>\n",
              "    <tr>\n",
              "      <th>0</th>\n",
              "      <td>1</td>\n",
              "      <td>1</td>\n",
              "      <td>4</td>\n",
              "      <td>74</td>\n",
              "      <td>[[890, 837, 883, 841, 877, 847, 872, 854, 868,...</td>\n",
              "      <td>[792, 837, 191, 221]</td>\n",
              "      <td>0</td>\n",
              "      <td>0</td>\n",
              "      <td>25260.0</td>\n",
              "    </tr>\n",
              "    <tr>\n",
              "      <th>1</th>\n",
              "      <td>2</td>\n",
              "      <td>1</td>\n",
              "      <td>4</td>\n",
              "      <td>74</td>\n",
              "      <td>[[1383, 765, 1377, 767, 1371, 770, 1365, 772, ...</td>\n",
              "      <td>[1285, 765, 169, 193]</td>\n",
              "      <td>0</td>\n",
              "      <td>0</td>\n",
              "      <td>22093.5</td>\n",
              "    </tr>\n",
              "    <tr>\n",
              "      <th>2</th>\n",
              "      <td>3</td>\n",
              "      <td>1</td>\n",
              "      <td>4</td>\n",
              "      <td>74</td>\n",
              "      <td>[[1149, 409, 1142, 415, 1140, 422, 1138, 429, ...</td>\n",
              "      <td>[1109, 409, 148, 186]</td>\n",
              "      <td>0</td>\n",
              "      <td>0</td>\n",
              "      <td>22911.5</td>\n",
              "    </tr>\n",
              "  </tbody>\n",
              "</table>\n",
              "</div>"
            ],
            "text/plain": [
              "   id  image_id  category_id  metainfo_id  \\\n",
              "0   1         1            4           74   \n",
              "1   2         1            4           74   \n",
              "2   3         1            4           74   \n",
              "\n",
              "                                        segmentation                   bbox  \\\n",
              "0  [[890, 837, 883, 841, 877, 847, 872, 854, 868,...   [792, 837, 191, 221]   \n",
              "1  [[1383, 765, 1377, 767, 1371, 770, 1365, 772, ...  [1285, 765, 169, 193]   \n",
              "2  [[1149, 409, 1142, 415, 1140, 422, 1138, 429, ...  [1109, 409, 148, 186]   \n",
              "\n",
              "   ignore  iscrowd     area  \n",
              "0       0        0  25260.0  \n",
              "1       0        0  22093.5  \n",
              "2       0        0  22911.5  "
            ]
          },
          "execution_count": 60,
          "metadata": {},
          "output_type": "execute_result"
        }
      ],
      "source": [
        "'''\n",
        "# annotations\n",
        "iscrowd는 maskrcnn pytorch documents에서의 튜토리얼에 나왔었음\n",
        "각 항목들을 다른 key값을 동시에 보면서 연관지어야 할 것으로 보임.\n",
        "id <<-- object_cnt / object_num 정도로 해석하면 될 듯?\n",
        "image_id == images.id\n",
        "category_id = class id -->> catId\n",
        "metainfo_id == int(file_name.split('_')[1])\n",
        "bbox : [xmean, ymean, width, height]\n",
        "'''\n",
        "pd.DataFrame(jsd['annotations'])"
      ]
    },
    {
      "cell_type": "code",
      "execution_count": 90,
      "metadata": {},
      "outputs": [
        {
          "name": "stdout",
          "output_type": "stream",
          "text": [
            "1 번째 객체의 segmentation 지점은 총 158 입니다.\n",
            "2 번째 객체의 segmentation 지점은 총 174 입니다.\n",
            "3 번째 객체의 segmentation 지점은 총 160 입니다.\n"
          ]
        }
      ],
      "source": [
        "import numpy as np\n",
        "\n",
        "for num in range(3):\n",
        "    print(f\"{num+1} 번째 객체의 segmentation 지점은 총 {len(np.array(jsd['annotations'][num]['segmentation']).reshape(-1))} 입니다.\")"
      ]
    },
    {
      "cell_type": "code",
      "execution_count": 69,
      "metadata": {},
      "outputs": [
        {
          "name": "stdout",
          "output_type": "stream",
          "text": [
            "id \t\t 97\n",
            "name \t\t 97\n",
            "category_id \t\t [1, 2, 3, 4]\n",
            "container \t\t [True, False]\n",
            "transparent \t\t [True, False]\n",
            "shape \t\t [0, 3, 1, 2]\n",
            "size \t\t [0, 1, 2]\n",
            "compress \t\t [0, 1, 2]\n",
            "label \t\t [True, False]\n"
          ]
        },
        {
          "data": {
            "text/html": [
              "<div>\n",
              "<style scoped>\n",
              "    .dataframe tbody tr th:only-of-type {\n",
              "        vertical-align: middle;\n",
              "    }\n",
              "\n",
              "    .dataframe tbody tr th {\n",
              "        vertical-align: top;\n",
              "    }\n",
              "\n",
              "    .dataframe thead th {\n",
              "        text-align: right;\n",
              "    }\n",
              "</style>\n",
              "<table border=\"1\" class=\"dataframe\">\n",
              "  <thead>\n",
              "    <tr style=\"text-align: right;\">\n",
              "      <th></th>\n",
              "      <th>id</th>\n",
              "      <th>name</th>\n",
              "      <th>category_id</th>\n",
              "      <th>container</th>\n",
              "      <th>transparent</th>\n",
              "      <th>shape</th>\n",
              "      <th>size</th>\n",
              "      <th>compress</th>\n",
              "      <th>label</th>\n",
              "    </tr>\n",
              "  </thead>\n",
              "  <tbody>\n",
              "    <tr>\n",
              "      <th>67</th>\n",
              "      <td>74</td>\n",
              "      <td>pe_식품용기류_불투명_원형_소_비압축_라벨유</td>\n",
              "      <td>4</td>\n",
              "      <td>True</td>\n",
              "      <td>False</td>\n",
              "      <td>1</td>\n",
              "      <td>1</td>\n",
              "      <td>0</td>\n",
              "      <td>True</td>\n",
              "    </tr>\n",
              "  </tbody>\n",
              "</table>\n",
              "</div>"
            ],
            "text/plain": [
              "    id                       name  category_id  container  transparent  shape  \\\n",
              "67  74  pe_식품용기류_불투명_원형_소_비압축_라벨유            4       True        False      1   \n",
              "\n",
              "    size  compress  label  \n",
              "67     1         0   True  "
            ]
          },
          "execution_count": 69,
          "metadata": {},
          "output_type": "execute_result"
        }
      ],
      "source": [
        "'''\n",
        "# metainfo\n",
        ": id, name, category_id, container(T/F)\n",
        "** name 나누면 매칭되는 값이 metainfo에 많음.\n",
        "\n",
        "name => .split('_')\n",
        "name = map(lambda x: x.join(' '))\n",
        "'''\n",
        "len(jsd['metainfo'])\n",
        "metainfo_df = pd.DataFrame(jsd['metainfo'])\n",
        "# metatinfo_df['classes'] = metainfo_df['name']\n",
        "for col in metainfo_df.columns:\n",
        "    print(col, '\\t\\t', list(metainfo_df[col].unique()) if len(metainfo_df[col].unique())<=10 else len(metainfo_df[col].unique()))\n",
        "    \n",
        "metainfo_df[metainfo_df['id']==74]"
      ]
    },
    {
      "cell_type": "markdown",
      "metadata": {},
      "source": [
        "## 추가적으로 봐야할 부분\n",
        "- 다른 클래스나 상위 폴더 중 test의 annotation도 동일하게 적용이 되는지\n",
        "- 특성할 수 있는 부분은 경로나 metainfo의 name을 학습할 수 있도록 각각 numeric한 값으로 정리한 내용인데 데이터가 제대로 매칭된 게 맞는지\n",
        "- 제공된 segmentation, bbox 등의 수치 값의 오차 범위는 어떻게 되는지"
      ]
    },
    {
      "cell_type": "markdown",
      "metadata": {
        "id": "nU5vHNU56AHV"
      },
      "source": [
        "## poetry YML 참고할 라이브러리(정확히는 확인해봐야 할 라이브러리)\n",
        "\n",
        "| pkg | version | defs |\n",
        "|:----|:--------:|:------|\n",
        "| pyyml | 0.0.2 | Use python in yaml |\n",
        "| yml | 0.0.1 | A fast, safe, pure Python YAML and JSON parser |\n",
        "| ci-yml | 0.3.3 | A .ci.yml parser for Gitlab-CI |\n",
        "| yaml2env | 0.0.1 | A package to convert yaml file to exportable environmental variable |\n",
        "\n",
        "**목적 :  ipynb로 제출할 파일 환경 구성**"
      ]
    },
    {
      "cell_type": "markdown",
      "metadata": {},
      "source": []
    }
  ],
  "metadata": {
    "colab": {
      "authorship_tag": "ABX9TyNhWH4gxFaI47dvTWKp42QV",
      "collapsed_sections": [],
      "name": "plastic-baseline.ipynb",
      "provenance": []
    },
    "kernelspec": {
      "display_name": "Python 3",
      "name": "python3"
    },
    "language_info": {
      "codemirror_mode": {
        "name": "ipython",
        "version": 3
      },
      "file_extension": ".py",
      "mimetype": "text/x-python",
      "name": "python",
      "nbconvert_exporter": "python",
      "pygments_lexer": "ipython3",
      "version": "3.9.0"
    }
  },
  "nbformat": 4,
  "nbformat_minor": 0
}
