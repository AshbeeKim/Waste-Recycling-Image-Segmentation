{
  "nbformat": 4,
  "nbformat_minor": 0,
  "metadata": {
    "colab": {
      "name": "plastic-baseline.ipynb",
      "provenance": [],
      "collapsed_sections": [],
      "authorship_tag": "ABX9TyNhWH4gxFaI47dvTWKp42QV"
    },
    "kernelspec": {
      "name": "python3",
      "display_name": "Python 3"
    },
    "language_info": {
      "name": "python"
    }
  },
  "cells": [
    {
      "cell_type": "code",
      "metadata": {
        "colab": {
          "base_uri": "https://localhost:8080/",
          "height": 0
        },
        "id": "QvQIyPLAlm4R",
        "outputId": "35ec49f7-af3e-401a-839d-97c88763b75e"
      },
      "source": [
        "import os\n",
        "import sys\n",
        "import json\n",
        "from glob import glob\n",
        "from google.colab import drive\n",
        "from google.colab import files\n",
        "\n",
        "ROOT = \"/content/drive\"\n",
        "\n",
        "try:\n",
        "    drive.mount(ROOT)\n",
        "except:\n",
        "    drive.mount(ROOT, force_remount=True)\n",
        "\n",
        "TASK_PATH = \"MyDrive/Task/plastic-segmentation/Data\"\n",
        "# gdrive_url = \"https://drive.google.com/drive/folders/1AjbGB_cl0XUoBF9ezKZ-4ilIer5qdyKh?usp=sharing\"\n",
        "# gdrive 활용하는 것은 다음 번에 시도하기\n",
        "\n",
        "TRN_PATH = os.path.join(ROOT, TASK_PATH, \"Train\")\n",
        "TST_PATH = os.path.join(ROOT, TASK_PATH, \"Test\")"
      ],
      "execution_count": 17,
      "outputs": [
        {
          "output_type": "stream",
          "name": "stdout",
          "text": [
            "Drive already mounted at /content/drive; to attempt to forcibly remount, call drive.mount(\"/content/drive\", force_remount=True).\n"
          ]
        }
      ]
    },
    {
      "cell_type": "code",
      "metadata": {
        "id": "jjJ7foYlnkeI"
      },
      "source": [
        "PCLS = [\"PE\", \"PET\", \"PP\"]  # , \"PS\" 테스트 데이터가 이상하게 들어가서 우선은 리스트에 넣지 않고 빼도록 함\n",
        "\n",
        "trn_paths = {\"image_path\" : [], \"annot_path\": []}\n",
        "tst_paths = {\"image_path\" : [], \"annot_path\": []}\n",
        "\n",
        "for fpath in [TRN_PATH, TST_PATH]:\n",
        "    for pcls in PCLS:\n",
        "        img_path = os.path.join(fpath, pcls)\n",
        "        img_paths = sorted(glob(img_path + \"/*.jpg\"))\n",
        "        if fpath.split('/')[-1]==\"Train\":\n",
        "            annot_path = os.path.join(fpath, \"annotation\", pcls)\n",
        "            trn_paths[\"image_path\"].extend(img_paths)\n",
        "            trn_paths[\"annot_path\"].extend(sorted(glob(annot_path + \"/*.json\")))\n",
        "        elif fpath.split('/')[-1]==\"Test\":\n",
        "            annot_path = os.path.join(fpath, \"annotations\", pcls)\n",
        "            tst_paths[\"image_path\"].extend(img_paths)\n",
        "            tst_paths[\"annot_path\"].extend(sorted(glob(annot_path + \"/*.json\")))"
      ],
      "execution_count": 69,
      "outputs": []
    },
    {
      "cell_type": "code",
      "metadata": {
        "colab": {
          "base_uri": "https://localhost:8080/"
        },
        "id": "gLI20aig6wX7",
        "outputId": "031a3a10-bc41-4ef9-f76a-50e6f5e80cef"
      },
      "source": [
        "import pandas as pd\n",
        "pd.DataFrame(trn_paths).iloc[0,:].apply(lambda x:x.split('/')[-1])"
      ],
      "execution_count": 63,
      "outputs": [
        {
          "output_type": "execute_result",
          "data": {
            "text/plain": [
              "image_path     PE_074_10.jpg\n",
              "annot_path    PE_074_10.json\n",
              "Name: 0, dtype: object"
            ]
          },
          "metadata": {},
          "execution_count": 63
        }
      ]
    },
    {
      "cell_type": "code",
      "metadata": {
        "colab": {
          "base_uri": "https://localhost:8080/",
          "height": 424
        },
        "id": "YEMRhaLH5jZ0",
        "outputId": "b3e70a94-c6ce-49e2-9184-d1766ba4dde5"
      },
      "source": [
        "# trn_paths[\"datas\"] = list(map(lambda x: (x.split('/')[-4]).lower(),trn_paths[\"annot_path\"]))\n",
        "# tst_paths[\"datas\"] = list(map(lambda x: (x.split('/')[-4]).lower(),tst_paths[\"annot_path\"]))\n",
        "## 이미 변수로 구분해서 필요없음\n",
        "\n",
        "trn_paths[\"classes\"] = list(map(lambda x: (x.split('/')[-1]).split('_')[0],trn_paths[\"annot_path\"]))\n",
        "trn_paths[\"feats_1\"] = list(map(lambda x: (x.split('/')[-1]).split('_')[1],trn_paths[\"annot_path\"]))\n",
        "trn_paths[\"feats_2\"] = list(map(lambda x: (x.split('/')[-1]).split('_')[-1][:-5],trn_paths[\"annot_path\"]))\n",
        "\n",
        "tst_paths[\"classes\"] = list(map(lambda x: (x.split('/')[-1]).split('_')[0],tst_paths[\"annot_path\"]))\n",
        "tst_paths[\"feats_1\"] = list(map(lambda x: (x.split('/')[-1]).split('_')[1],tst_paths[\"annot_path\"]))\n",
        "tst_paths[\"feats_2\"] = list(map(lambda x: (x.split('/')[-1]).split('_')[-1][:-5],tst_paths[\"annot_path\"]))\n",
        "\n",
        "pd.DataFrame(trn_paths)"
      ],
      "execution_count": 70,
      "outputs": [
        {
          "output_type": "execute_result",
          "data": {
            "text/html": [
              "<div>\n",
              "<style scoped>\n",
              "    .dataframe tbody tr th:only-of-type {\n",
              "        vertical-align: middle;\n",
              "    }\n",
              "\n",
              "    .dataframe tbody tr th {\n",
              "        vertical-align: top;\n",
              "    }\n",
              "\n",
              "    .dataframe thead th {\n",
              "        text-align: right;\n",
              "    }\n",
              "</style>\n",
              "<table border=\"1\" class=\"dataframe\">\n",
              "  <thead>\n",
              "    <tr style=\"text-align: right;\">\n",
              "      <th></th>\n",
              "      <th>image_path</th>\n",
              "      <th>annot_path</th>\n",
              "      <th>classes</th>\n",
              "      <th>feats_1</th>\n",
              "      <th>feats_2</th>\n",
              "    </tr>\n",
              "  </thead>\n",
              "  <tbody>\n",
              "    <tr>\n",
              "      <th>0</th>\n",
              "      <td>/content/drive/MyDrive/Task/plastic-segmentati...</td>\n",
              "      <td>/content/drive/MyDrive/Task/plastic-segmentati...</td>\n",
              "      <td>PE</td>\n",
              "      <td>074</td>\n",
              "      <td>10</td>\n",
              "    </tr>\n",
              "    <tr>\n",
              "      <th>1</th>\n",
              "      <td>/content/drive/MyDrive/Task/plastic-segmentati...</td>\n",
              "      <td>/content/drive/MyDrive/Task/plastic-segmentati...</td>\n",
              "      <td>PE</td>\n",
              "      <td>074</td>\n",
              "      <td>100</td>\n",
              "    </tr>\n",
              "    <tr>\n",
              "      <th>2</th>\n",
              "      <td>/content/drive/MyDrive/Task/plastic-segmentati...</td>\n",
              "      <td>/content/drive/MyDrive/Task/plastic-segmentati...</td>\n",
              "      <td>PE</td>\n",
              "      <td>074</td>\n",
              "      <td>101</td>\n",
              "    </tr>\n",
              "    <tr>\n",
              "      <th>3</th>\n",
              "      <td>/content/drive/MyDrive/Task/plastic-segmentati...</td>\n",
              "      <td>/content/drive/MyDrive/Task/plastic-segmentati...</td>\n",
              "      <td>PE</td>\n",
              "      <td>074</td>\n",
              "      <td>102</td>\n",
              "    </tr>\n",
              "    <tr>\n",
              "      <th>4</th>\n",
              "      <td>/content/drive/MyDrive/Task/plastic-segmentati...</td>\n",
              "      <td>/content/drive/MyDrive/Task/plastic-segmentati...</td>\n",
              "      <td>PE</td>\n",
              "      <td>074</td>\n",
              "      <td>103</td>\n",
              "    </tr>\n",
              "    <tr>\n",
              "      <th>...</th>\n",
              "      <td>...</td>\n",
              "      <td>...</td>\n",
              "      <td>...</td>\n",
              "      <td>...</td>\n",
              "      <td>...</td>\n",
              "    </tr>\n",
              "    <tr>\n",
              "      <th>2995</th>\n",
              "      <td>/content/drive/MyDrive/Task/plastic-segmentati...</td>\n",
              "      <td>/content/drive/MyDrive/Task/plastic-segmentati...</td>\n",
              "      <td>PP</td>\n",
              "      <td>058</td>\n",
              "      <td>8929</td>\n",
              "    </tr>\n",
              "    <tr>\n",
              "      <th>2996</th>\n",
              "      <td>/content/drive/MyDrive/Task/plastic-segmentati...</td>\n",
              "      <td>/content/drive/MyDrive/Task/plastic-segmentati...</td>\n",
              "      <td>PP</td>\n",
              "      <td>058</td>\n",
              "      <td>8995</td>\n",
              "    </tr>\n",
              "    <tr>\n",
              "      <th>2997</th>\n",
              "      <td>/content/drive/MyDrive/Task/plastic-segmentati...</td>\n",
              "      <td>/content/drive/MyDrive/Task/plastic-segmentati...</td>\n",
              "      <td>PP</td>\n",
              "      <td>058</td>\n",
              "      <td>908</td>\n",
              "    </tr>\n",
              "    <tr>\n",
              "      <th>2998</th>\n",
              "      <td>/content/drive/MyDrive/Task/plastic-segmentati...</td>\n",
              "      <td>/content/drive/MyDrive/Task/plastic-segmentati...</td>\n",
              "      <td>PP</td>\n",
              "      <td>058</td>\n",
              "      <td>910</td>\n",
              "    </tr>\n",
              "    <tr>\n",
              "      <th>2999</th>\n",
              "      <td>/content/drive/MyDrive/Task/plastic-segmentati...</td>\n",
              "      <td>/content/drive/MyDrive/Task/plastic-segmentati...</td>\n",
              "      <td>PP</td>\n",
              "      <td>058</td>\n",
              "      <td>92</td>\n",
              "    </tr>\n",
              "  </tbody>\n",
              "</table>\n",
              "<p>3000 rows × 5 columns</p>\n",
              "</div>"
            ],
            "text/plain": [
              "                                             image_path  ... feats_2\n",
              "0     /content/drive/MyDrive/Task/plastic-segmentati...  ...      10\n",
              "1     /content/drive/MyDrive/Task/plastic-segmentati...  ...     100\n",
              "2     /content/drive/MyDrive/Task/plastic-segmentati...  ...     101\n",
              "3     /content/drive/MyDrive/Task/plastic-segmentati...  ...     102\n",
              "4     /content/drive/MyDrive/Task/plastic-segmentati...  ...     103\n",
              "...                                                 ...  ...     ...\n",
              "2995  /content/drive/MyDrive/Task/plastic-segmentati...  ...    8929\n",
              "2996  /content/drive/MyDrive/Task/plastic-segmentati...  ...    8995\n",
              "2997  /content/drive/MyDrive/Task/plastic-segmentati...  ...     908\n",
              "2998  /content/drive/MyDrive/Task/plastic-segmentati...  ...     910\n",
              "2999  /content/drive/MyDrive/Task/plastic-segmentati...  ...      92\n",
              "\n",
              "[3000 rows x 5 columns]"
            ]
          },
          "metadata": {},
          "execution_count": 70
        }
      ]
    },
    {
      "cell_type": "code",
      "metadata": {
        "colab": {
          "base_uri": "https://localhost:8080/"
        },
        "id": "bR1c1rDe9ql4",
        "outputId": "969e39b6-310f-4d02-fc16-bf27a952e44f"
      },
      "source": [
        "# trn_annots = \n",
        "# for apath in trn_paths[\"annot_path\"][0]:\n",
        "with open(trn_paths[\"annot_path\"][0], \"r\") as jsf:\n",
        "    jsd = json.loads(jsf.read())\n",
        "print(jsd)"
      ],
      "execution_count": 23,
      "outputs": [
        {
          "output_type": "stream",
          "name": "stdout",
          "text": [
            "{'images': [{'width': 2048, 'height': 2048, 'id': 1, 'file_name': 'PE_074_10.jpg'}], 'categories': [{'id': 1, 'name': 'pet'}, {'id': 2, 'name': 'ps'}, {'id': 3, 'name': 'pp'}, {'id': 4, 'name': 'pe'}], 'annotations': [{'id': 1, 'image_id': 1, 'category_id': 4, 'metainfo_id': 74, 'segmentation': [[890, 837, 883, 841, 877, 847, 872, 854, 868, 861, 863, 868, 856, 875, 851, 881, 845, 888, 842, 895, 837, 902, 834, 909, 830, 916, 826, 923, 822, 930, 818, 937, 814, 944, 809, 951, 807, 958, 802, 965, 800, 972, 795, 979, 793, 986, 792, 993, 792, 1000, 795, 1007, 802, 1011, 808, 1017, 815, 1019, 822, 1024, 829, 1028, 836, 1033, 843, 1036, 850, 1041, 857, 1044, 864, 1049, 871, 1052, 878, 1056, 885, 1058, 892, 1058, 899, 1054, 906, 1049, 909, 1042, 914, 1035, 918, 1028, 922, 1021, 924, 1014, 930, 1007, 934, 1000, 937, 993, 941, 987, 945, 980, 948, 973, 952, 966, 957, 959, 960, 952, 964, 945, 966, 938, 966, 931, 967, 924, 968, 917, 970, 910, 974, 903, 980, 896, 983, 889, 982, 882, 977, 876, 970, 874, 964, 869, 957, 867, 950, 865, 944, 860, 937, 858, 931, 854, 924, 850, 917, 847, 910, 843, 903, 841, 896, 837]], 'bbox': [792, 837, 191, 221], 'ignore': 0, 'iscrowd': 0, 'area': 25260.0}, {'id': 2, 'image_id': 1, 'category_id': 4, 'metainfo_id': 74, 'segmentation': [[1383, 765, 1377, 767, 1371, 770, 1365, 772, 1359, 773, 1353, 777, 1347, 779, 1341, 783, 1335, 785, 1329, 787, 1324, 791, 1318, 792, 1312, 795, 1306, 799, 1300, 800, 1294, 805, 1288, 810, 1285, 816, 1285, 822, 1285, 828, 1289, 834, 1290, 840, 1292, 846, 1296, 852, 1297, 858, 1299, 864, 1302, 870, 1303, 876, 1306, 882, 1309, 888, 1310, 894, 1315, 900, 1317, 906, 1322, 910, 1328, 916, 1334, 921, 1339, 927, 1341, 933, 1345, 939, 1347, 945, 1350, 951, 1355, 957, 1361, 958, 1367, 958, 1373, 957, 1379, 953, 1385, 951, 1391, 950, 1397, 946, 1403, 944, 1409, 943, 1415, 940, 1421, 937, 1427, 936, 1433, 932, 1439, 930, 1445, 928, 1450, 923, 1453, 917, 1454, 911, 1452, 905, 1451, 899, 1448, 893, 1445, 887, 1444, 881, 1444, 875, 1444, 869, 1445, 863, 1444, 857, 1444, 851, 1441, 845, 1438, 839, 1436, 833, 1432, 827, 1430, 821, 1426, 815, 1425, 809, 1425, 803, 1421, 797, 1419, 791, 1416, 785, 1413, 779, 1412, 773, 1406, 770, 1400, 766, 1394, 765, 1388, 765]], 'bbox': [1285, 765, 169, 193], 'ignore': 0, 'iscrowd': 0, 'area': 22093.5}, {'id': 3, 'image_id': 1, 'category_id': 4, 'metainfo_id': 74, 'segmentation': [[1149, 409, 1142, 415, 1140, 422, 1138, 429, 1136, 436, 1136, 443, 1135, 450, 1132, 457, 1127, 464, 1121, 471, 1119, 478, 1118, 485, 1117, 492, 1115, 499, 1114, 506, 1114, 513, 1114, 520, 1113, 527, 1111, 534, 1110, 541, 1109, 548, 1109, 555, 1109, 562, 1110, 569, 1114, 575, 1121, 581, 1128, 583, 1135, 584, 1142, 587, 1149, 588, 1156, 589, 1163, 589, 1170, 590, 1177, 593, 1184, 594, 1191, 595, 1198, 595, 1205, 595, 1212, 595, 1219, 595, 1226, 595, 1233, 591, 1240, 588, 1243, 581, 1246, 574, 1247, 567, 1247, 560, 1248, 553, 1249, 546, 1250, 539, 1252, 532, 1252, 525, 1252, 518, 1253, 511, 1255, 504, 1257, 497, 1256, 490, 1253, 483, 1250, 476, 1248, 469, 1248, 462, 1248, 455, 1248, 448, 1250, 441, 1251, 434, 1249, 427, 1243, 422, 1236, 418, 1229, 416, 1222, 416, 1215, 415, 1208, 413, 1201, 411, 1194, 410, 1187, 409, 1180, 409, 1173, 409, 1166, 409, 1159, 409, 1152, 409]], 'bbox': [1109, 409, 148, 186], 'ignore': 0, 'iscrowd': 0, 'area': 22911.5}], 'info': {'year': 2021, 'version': '1.0', 'contributor': 'datamaker'}, 'metainfo': [{'id': 1, 'name': 'pet_식품용기류_투명_병류_대_비압축_라벨유', 'category_id': 1, 'container': True, 'transparent': True, 'shape': 0, 'size': 0, 'compress': 0, 'label': True}, {'id': 2, 'name': 'pet_식품용기류_투명_병류_대_비압축_라벨무', 'category_id': 1, 'container': True, 'transparent': True, 'shape': 0, 'size': 0, 'compress': 0, 'label': False}, {'id': 3, 'name': 'pet_식품용기류_투명_병류_대_수평압축_라벨유', 'category_id': 1, 'container': True, 'transparent': True, 'shape': 0, 'size': 0, 'compress': 1, 'label': True}, {'id': 4, 'name': 'pet_식품용기류_투명_병류_대_수평압축_라벨무', 'category_id': 1, 'container': True, 'transparent': True, 'shape': 0, 'size': 0, 'compress': 1, 'label': False}, {'id': 5, 'name': 'pet_식품용기류_투명_병류_대_수직압축_라벨유', 'category_id': 1, 'container': True, 'transparent': True, 'shape': 0, 'size': 0, 'compress': 2, 'label': True}, {'id': 6, 'name': 'pet_식품용기류_투명_병류_대_수직압축_라벨무', 'category_id': 1, 'container': True, 'transparent': True, 'shape': 0, 'size': 0, 'compress': 2, 'label': False}, {'id': 7, 'name': 'pet_식품용기류_투명_병류_소_비압축_라벨유', 'category_id': 1, 'container': True, 'transparent': True, 'shape': 0, 'size': 1, 'compress': 0, 'label': True}, {'id': 8, 'name': 'pet_식품용기류_투명_병류_소_비압축_라벨무', 'category_id': 1, 'container': True, 'transparent': True, 'shape': 0, 'size': 1, 'compress': 0, 'label': False}, {'id': 9, 'name': 'pet_식품용기류_투명_병류_소_수평압축_라벨유', 'category_id': 1, 'container': True, 'transparent': True, 'shape': 0, 'size': 1, 'compress': 1, 'label': True}, {'id': 10, 'name': 'pet_식품용기류_투명_병류_소_수평압축_라벨무', 'category_id': 1, 'container': True, 'transparent': True, 'shape': 0, 'size': 1, 'compress': 1, 'label': False}, {'id': 11, 'name': 'pet_식품용기류_투명_병류_소_수직압축_라벨유', 'category_id': 1, 'container': True, 'transparent': True, 'shape': 0, 'size': 1, 'compress': 2, 'label': True}, {'id': 12, 'name': 'pet_식품용기류_투명_병류_소_수직압축_라벨무', 'category_id': 1, 'container': True, 'transparent': True, 'shape': 0, 'size': 1, 'compress': 2, 'label': False}, {'id': 13, 'name': 'pet_식품용기류_불투명_병류_대_비압축_라벨유', 'category_id': 1, 'container': True, 'transparent': False, 'shape': 0, 'size': 0, 'compress': 0, 'label': True}, {'id': 14, 'name': 'pet_식품용기류_불투명_병류_대_비압축_라벨무', 'category_id': 1, 'container': True, 'transparent': False, 'shape': 0, 'size': 0, 'compress': 0, 'label': False}, {'id': 15, 'name': 'pet_식품용기류_불투명_병류_대_수평압축_라벨유', 'category_id': 1, 'container': True, 'transparent': False, 'shape': 0, 'size': 0, 'compress': 1, 'label': True}, {'id': 16, 'name': 'pet_식품용기류_불투명_병류_대_수평압축_라벨무', 'category_id': 1, 'container': True, 'transparent': False, 'shape': 0, 'size': 0, 'compress': 1, 'label': False}, {'id': 17, 'name': 'pet_식품용기류_불투명_병류_대_수직압축_라벨유', 'category_id': 1, 'container': True, 'transparent': False, 'shape': 0, 'size': 0, 'compress': 2, 'label': True}, {'id': 18, 'name': 'pet_식품용기류_불투명_병류_대_수직압축_라벨무', 'category_id': 1, 'container': True, 'transparent': False, 'shape': 0, 'size': 0, 'compress': 2, 'label': False}, {'id': 19, 'name': 'pet_식품용기류_불투명_병류_소_비압축_라벨유', 'category_id': 1, 'container': True, 'transparent': False, 'shape': 0, 'size': 1, 'compress': 0, 'label': True}, {'id': 20, 'name': 'pet_식품용기류_불투명_병류_소_비압축_라벨무', 'category_id': 1, 'container': True, 'transparent': False, 'shape': 0, 'size': 1, 'compress': 0, 'label': False}, {'id': 21, 'name': 'pet_식품용기류_불투명_병류_소_수평압축_라벨유', 'category_id': 1, 'container': True, 'transparent': False, 'shape': 0, 'size': 1, 'compress': 1, 'label': True}, {'id': 22, 'name': 'pet_식품용기류_불투명_병류_소_수평압축_라벨무', 'category_id': 1, 'container': True, 'transparent': False, 'shape': 0, 'size': 1, 'compress': 1, 'label': False}, {'id': 23, 'name': 'pet_식품용기류_불투명_병류_소_수직압축_라벨유', 'category_id': 1, 'container': True, 'transparent': False, 'shape': 0, 'size': 1, 'compress': 2, 'label': True}, {'id': 24, 'name': 'pet_식품용기류_불투명_병류_소_수직압축_라벨무', 'category_id': 1, 'container': True, 'transparent': False, 'shape': 0, 'size': 1, 'compress': 2, 'label': False}, {'id': 25, 'name': 'pet_식품용기류_투명_기타_대_비압축_라벨무', 'category_id': 1, 'container': True, 'transparent': True, 'shape': 3, 'size': 0, 'compress': 0, 'label': False}, {'id': 26, 'name': 'pet_식품용기류_투명_기타_대_수평압축_라벨무', 'category_id': 1, 'container': True, 'transparent': True, 'shape': 3, 'size': 0, 'compress': 1, 'label': False}, {'id': 27, 'name': 'pet_식품용기류_투명_기타_대_수직압축_라벨무', 'category_id': 1, 'container': True, 'transparent': True, 'shape': 3, 'size': 0, 'compress': 2, 'label': False}, {'id': 28, 'name': 'pet_식품용기류_투명_기타_소_비압축_라벨무', 'category_id': 1, 'container': True, 'transparent': True, 'shape': 3, 'size': 1, 'compress': 0, 'label': False}, {'id': 29, 'name': 'pet_식품용기류_투명_기타_소_수평압축_라벨무', 'category_id': 1, 'container': True, 'transparent': True, 'shape': 3, 'size': 1, 'compress': 1, 'label': False}, {'id': 30, 'name': 'pet_식품용기류_투명_기타_소_수직압축_라벨무', 'category_id': 1, 'container': True, 'transparent': True, 'shape': 3, 'size': 1, 'compress': 2, 'label': False}, {'id': 31, 'name': 'ps_식품용기류_불투명_기타_대_비압축_라벨무', 'category_id': 2, 'container': True, 'transparent': False, 'shape': 3, 'size': 0, 'compress': 0, 'label': False}, {'id': 32, 'name': 'ps_식품용기류_불투명_기타_대_수평압축_라벨무', 'category_id': 2, 'container': True, 'transparent': False, 'shape': 3, 'size': 0, 'compress': 1, 'label': False}, {'id': 33, 'name': 'ps_식품용기류_불투명_기타_대_수직압축_라벨무', 'category_id': 2, 'container': True, 'transparent': False, 'shape': 3, 'size': 0, 'compress': 2, 'label': False}, {'id': 34, 'name': 'ps_식품용기류_불투명_기타_소_비압축_라벨무', 'category_id': 2, 'container': True, 'transparent': False, 'shape': 3, 'size': 1, 'compress': 0, 'label': False}, {'id': 35, 'name': 'ps_식품용기류_불투명_기타_소_수평압축_라벨무', 'category_id': 2, 'container': True, 'transparent': False, 'shape': 3, 'size': 1, 'compress': 1, 'label': False}, {'id': 36, 'name': 'ps_식품용기류_불투명_기타_소_수직압축_라벨무', 'category_id': 2, 'container': True, 'transparent': False, 'shape': 3, 'size': 1, 'compress': 2, 'label': False}, {'id': 37, 'name': 'ps_식품용기류_불투명_병류_소_비압축_라벨유', 'category_id': 2, 'container': True, 'transparent': False, 'shape': 0, 'size': 1, 'compress': 0, 'label': True}, {'id': 38, 'name': 'ps_식품용기류_불투명_병류_소_비압축_라벨무', 'category_id': 2, 'container': True, 'transparent': False, 'shape': 0, 'size': 1, 'compress': 0, 'label': False}, {'id': 39, 'name': 'ps_식품용기류_불투명_병류_소_수평압축_라벨유', 'category_id': 2, 'container': True, 'transparent': False, 'shape': 0, 'size': 1, 'compress': 1, 'label': True}, {'id': 40, 'name': 'ps_식품용기류_불투명_병류_소_수평압축_라벨무', 'category_id': 2, 'container': True, 'transparent': False, 'shape': 0, 'size': 1, 'compress': 1, 'label': False}, {'id': 41, 'name': 'ps_식품용기류_불투명_병류_소_수직압축_라벨유', 'category_id': 2, 'container': True, 'transparent': False, 'shape': 0, 'size': 1, 'compress': 2, 'label': True}, {'id': 42, 'name': 'ps_식품용기류_불투명_병류_소_수직압축_라벨무', 'category_id': 2, 'container': True, 'transparent': False, 'shape': 0, 'size': 1, 'compress': 2, 'label': False}, {'id': 44, 'name': 'pp_식품용기류_불투명_원형_대_비압축_라벨무', 'category_id': 3, 'container': True, 'transparent': False, 'shape': 1, 'size': 0, 'compress': 0, 'label': False}, {'id': 46, 'name': 'pp_식품용기류_불투명_원형_대_수평압축_라벨무', 'category_id': 3, 'container': True, 'transparent': False, 'shape': 1, 'size': 0, 'compress': 1, 'label': False}, {'id': 48, 'name': 'pp_식품용기류_불투명_원형_대_수직압축_라벨무', 'category_id': 3, 'container': True, 'transparent': False, 'shape': 1, 'size': 0, 'compress': 2, 'label': False}, {'id': 50, 'name': 'pp_식품용기류_불투명_원형_소_비압축_라벨무', 'category_id': 3, 'container': True, 'transparent': False, 'shape': 1, 'size': 1, 'compress': 0, 'label': False}, {'id': 52, 'name': 'pp_식품용기류_불투명_원형_소_수평압축_라벨무', 'category_id': 3, 'container': True, 'transparent': False, 'shape': 1, 'size': 1, 'compress': 1, 'label': False}, {'id': 54, 'name': 'pp_식품용기류_불투명_원형_소_수직압축_라벨무', 'category_id': 3, 'container': True, 'transparent': False, 'shape': 1, 'size': 1, 'compress': 2, 'label': False}, {'id': 55, 'name': 'pp_식품용기류_불투명_사각형_대_비압축_라벨유', 'category_id': 3, 'container': True, 'transparent': False, 'shape': 2, 'size': 0, 'compress': 0, 'label': True}, {'id': 56, 'name': 'pp_식품용기류_불투명_사각형_대_비압축_라벨무', 'category_id': 3, 'container': True, 'transparent': False, 'shape': 2, 'size': 0, 'compress': 0, 'label': False}, {'id': 57, 'name': 'pp_식품용기류_불투명_사각형_대_수평압축_라벨유', 'category_id': 3, 'container': True, 'transparent': False, 'shape': 2, 'size': 0, 'compress': 1, 'label': True}, {'id': 58, 'name': 'pp_식품용기류_불투명_사각형_대_수평압축_라벨무', 'category_id': 3, 'container': True, 'transparent': False, 'shape': 2, 'size': 0, 'compress': 1, 'label': False}, {'id': 59, 'name': 'pp_식품용기류_불투명_사각형_대_수직압축_라벨유', 'category_id': 3, 'container': True, 'transparent': False, 'shape': 2, 'size': 0, 'compress': 2, 'label': True}, {'id': 60, 'name': 'pp_식품용기류_불투명_사각형_대_수직압축_라벨무', 'category_id': 3, 'container': True, 'transparent': False, 'shape': 2, 'size': 0, 'compress': 2, 'label': False}, {'id': 61, 'name': 'pp_식품용기류_불투명_사각형_소_비압축_라벨유', 'category_id': 3, 'container': True, 'transparent': False, 'shape': 2, 'size': 1, 'compress': 0, 'label': True}, {'id': 62, 'name': 'pp_식품용기류_불투명_사각형_소_비압축_라벨무', 'category_id': 3, 'container': True, 'transparent': False, 'shape': 2, 'size': 1, 'compress': 0, 'label': False}, {'id': 63, 'name': 'pp_식품용기류_불투명_사각형_소_수평압축_라벨유', 'category_id': 3, 'container': True, 'transparent': False, 'shape': 2, 'size': 1, 'compress': 1, 'label': True}, {'id': 64, 'name': 'pp_식품용기류_불투명_사각형_소_수평압축_라벨무', 'category_id': 3, 'container': True, 'transparent': False, 'shape': 2, 'size': 1, 'compress': 1, 'label': False}, {'id': 65, 'name': 'pp_식품용기류_불투명_사각형_소_수직압축_라벨유', 'category_id': 3, 'container': True, 'transparent': False, 'shape': 2, 'size': 1, 'compress': 2, 'label': True}, {'id': 66, 'name': 'pp_식품용기류_불투명_사각형_소_수직압축_라벨무', 'category_id': 3, 'container': True, 'transparent': False, 'shape': 2, 'size': 1, 'compress': 2, 'label': False}, {'id': 67, 'name': 'pp_기타_불투명_기타_기타_비압축_라벨무', 'category_id': 3, 'container': False, 'transparent': False, 'shape': 3, 'size': 2, 'compress': 0, 'label': False}, {'id': 68, 'name': 'pe_식품용기류_불투명_원형_대_비압축_라벨유', 'category_id': 4, 'container': True, 'transparent': False, 'shape': 1, 'size': 0, 'compress': 0, 'label': True}, {'id': 69, 'name': 'pe_식품용기류_불투명_원형_대_비압축_라벨무', 'category_id': 4, 'container': True, 'transparent': False, 'shape': 1, 'size': 0, 'compress': 0, 'label': False}, {'id': 70, 'name': 'pe_식품용기류_불투명_원형_대_수평압축_라벨유', 'category_id': 4, 'container': True, 'transparent': False, 'shape': 1, 'size': 0, 'compress': 1, 'label': True}, {'id': 71, 'name': 'pe_식품용기류_불투명_원형_대_수평압축_라벨무', 'category_id': 4, 'container': True, 'transparent': False, 'shape': 1, 'size': 0, 'compress': 1, 'label': False}, {'id': 72, 'name': 'pe_식품용기류_불투명_원형_대_수직압축_라벨유', 'category_id': 4, 'container': True, 'transparent': False, 'shape': 1, 'size': 0, 'compress': 2, 'label': True}, {'id': 73, 'name': 'pe_식품용기류_불투명_원형_대_수직압축_라벨무', 'category_id': 4, 'container': True, 'transparent': False, 'shape': 1, 'size': 0, 'compress': 2, 'label': False}, {'id': 74, 'name': 'pe_식품용기류_불투명_원형_소_비압축_라벨유', 'category_id': 4, 'container': True, 'transparent': False, 'shape': 1, 'size': 1, 'compress': 0, 'label': True}, {'id': 75, 'name': 'pe_식품용기류_불투명_원형_소_비압축_라벨무', 'category_id': 4, 'container': True, 'transparent': False, 'shape': 1, 'size': 1, 'compress': 0, 'label': False}, {'id': 76, 'name': 'pe_식품용기류_불투명_원형_소_수평압축_라벨유', 'category_id': 4, 'container': True, 'transparent': False, 'shape': 1, 'size': 1, 'compress': 1, 'label': True}, {'id': 77, 'name': 'pe_식품용기류_불투명_원형_소_수평압축_라벨무', 'category_id': 4, 'container': True, 'transparent': False, 'shape': 1, 'size': 1, 'compress': 1, 'label': False}, {'id': 78, 'name': 'pe_식품용기류_불투명_원형_소_수직압축_라벨유', 'category_id': 4, 'container': True, 'transparent': False, 'shape': 1, 'size': 1, 'compress': 2, 'label': True}, {'id': 79, 'name': 'pe_식품용기류_불투명_원형_소_수직압축_라벨무', 'category_id': 4, 'container': True, 'transparent': False, 'shape': 1, 'size': 1, 'compress': 2, 'label': False}, {'id': 80, 'name': 'pe_식품용기류_불투명_사각형_대_비압축_라벨유', 'category_id': 4, 'container': True, 'transparent': False, 'shape': 2, 'size': 0, 'compress': 0, 'label': True}, {'id': 81, 'name': 'pe_식품용기류_불투명_사각형_대_비압축_라벨무', 'category_id': 4, 'container': True, 'transparent': False, 'shape': 2, 'size': 0, 'compress': 0, 'label': False}, {'id': 82, 'name': 'pe_식품용기류_불투명_사각형_대_수평압축_라벨유', 'category_id': 4, 'container': True, 'transparent': False, 'shape': 2, 'size': 0, 'compress': 1, 'label': True}, {'id': 83, 'name': 'pe_식품용기류_불투명_사각형_대_수평압축_라벨무', 'category_id': 4, 'container': True, 'transparent': False, 'shape': 2, 'size': 0, 'compress': 1, 'label': False}, {'id': 84, 'name': 'pe_식품용기류_불투명_사각형_대_수직압축_라벨유', 'category_id': 4, 'container': True, 'transparent': False, 'shape': 2, 'size': 0, 'compress': 2, 'label': True}, {'id': 85, 'name': 'pe_식품용기류_불투명_사각형_대_수직압축_라벨무', 'category_id': 4, 'container': True, 'transparent': False, 'shape': 2, 'size': 0, 'compress': 2, 'label': False}, {'id': 86, 'name': 'pe_식품용기류_불투명_사각형_소_비압축_라벨유', 'category_id': 4, 'container': True, 'transparent': False, 'shape': 2, 'size': 1, 'compress': 0, 'label': True}, {'id': 87, 'name': 'pe_식품용기류_불투명_사각형_소_비압축_라벨무', 'category_id': 4, 'container': True, 'transparent': False, 'shape': 2, 'size': 1, 'compress': 0, 'label': False}, {'id': 88, 'name': 'pe_식품용기류_불투명_사각형_소_수평압축_라벨유', 'category_id': 4, 'container': True, 'transparent': False, 'shape': 2, 'size': 1, 'compress': 1, 'label': True}, {'id': 89, 'name': 'pe_식품용기류_불투명_사각형_소_수평압축_라벨무', 'category_id': 4, 'container': True, 'transparent': False, 'shape': 2, 'size': 1, 'compress': 1, 'label': False}, {'id': 90, 'name': 'pe_식품용기류_불투명_사각형_소_수직압축_라벨유', 'category_id': 4, 'container': True, 'transparent': False, 'shape': 2, 'size': 1, 'compress': 2, 'label': True}, {'id': 91, 'name': 'pe_식품용기류_불투명_사각형_소_수직압축_라벨무', 'category_id': 4, 'container': True, 'transparent': False, 'shape': 2, 'size': 1, 'compress': 2, 'label': False}, {'id': 92, 'name': 'pe_기타_불투명_기타_대_비압축_라벨유', 'category_id': 4, 'container': False, 'transparent': False, 'shape': 3, 'size': 0, 'compress': 0, 'label': True}, {'id': 93, 'name': 'pe_기타_불투명_기타_대_비압축_라벨무', 'category_id': 4, 'container': False, 'transparent': False, 'shape': 3, 'size': 0, 'compress': 0, 'label': False}, {'id': 94, 'name': 'pe_기타_불투명_기타_대_수평압축_라벨유', 'category_id': 4, 'container': False, 'transparent': False, 'shape': 3, 'size': 0, 'compress': 1, 'label': True}, {'id': 95, 'name': 'pe_기타_불투명_기타_대_수평압축_라벨무', 'category_id': 4, 'container': False, 'transparent': False, 'shape': 3, 'size': 0, 'compress': 1, 'label': False}, {'id': 96, 'name': 'pe_기타_불투명_기타_대_수직압축_라벨유', 'category_id': 4, 'container': False, 'transparent': False, 'shape': 3, 'size': 0, 'compress': 2, 'label': True}, {'id': 97, 'name': 'pe_기타_불투명_기타_대_수직압축_라벨무', 'category_id': 4, 'container': False, 'transparent': False, 'shape': 3, 'size': 0, 'compress': 2, 'label': False}, {'id': 98, 'name': 'pe_기타_불투명_기타_소_비압축_라벨유', 'category_id': 4, 'container': False, 'transparent': False, 'shape': 3, 'size': 1, 'compress': 0, 'label': True}, {'id': 99, 'name': 'pe_기타_불투명_기타_소_비압축_라벨무', 'category_id': 4, 'container': False, 'transparent': False, 'shape': 3, 'size': 1, 'compress': 0, 'label': False}, {'id': 100, 'name': 'pe_기타_불투명_기타_소_수평압축_라벨유', 'category_id': 4, 'container': False, 'transparent': False, 'shape': 3, 'size': 1, 'compress': 1, 'label': True}, {'id': 101, 'name': 'pe_기타_불투명_기타_소_수평압축_라벨무', 'category_id': 4, 'container': False, 'transparent': False, 'shape': 3, 'size': 1, 'compress': 1, 'label': False}, {'id': 102, 'name': 'pe_기타_불투명_기타_소_수직압축_라벨유', 'category_id': 4, 'container': False, 'transparent': False, 'shape': 3, 'size': 1, 'compress': 2, 'label': True}, {'id': 103, 'name': 'pe_기타_불투명_기타_소_수직압축_라벨무', 'category_id': 4, 'container': False, 'transparent': False, 'shape': 3, 'size': 1, 'compress': 2, 'label': False}]}\n"
          ]
        }
      ]
    },
    {
      "cell_type": "code",
      "metadata": {
        "colab": {
          "base_uri": "https://localhost:8080/"
        },
        "id": "64ev_AHS_h_j",
        "outputId": "feac29bf-6532-407d-8247-a5f76e3eaf2d"
      },
      "source": [
        "jsd.keys()"
      ],
      "execution_count": 24,
      "outputs": [
        {
          "output_type": "execute_result",
          "data": {
            "text/plain": [
              "dict_keys(['images', 'categories', 'annotations', 'info', 'metainfo'])"
            ]
          },
          "metadata": {},
          "execution_count": 24
        }
      ]
    },
    {
      "cell_type": "code",
      "metadata": {
        "colab": {
          "base_uri": "https://localhost:8080/"
        },
        "id": "gywHiwON_kd8",
        "outputId": "adf87324-f6f0-4c3e-b062-986085985487"
      },
      "source": [
        "jsd[\"images\"][0].keys()"
      ],
      "execution_count": 26,
      "outputs": [
        {
          "output_type": "execute_result",
          "data": {
            "text/plain": [
              "dict_keys(['width', 'height', 'id', 'file_name'])"
            ]
          },
          "metadata": {},
          "execution_count": 26
        }
      ]
    },
    {
      "cell_type": "code",
      "metadata": {
        "colab": {
          "base_uri": "https://localhost:8080/"
        },
        "id": "hX2J6akH_8gc",
        "outputId": "965c168e-5120-48e5-aa6f-c2fa43be8cae"
      },
      "source": [
        "from collections import OrderedDict, defaultdict\n",
        "# OrderedDict(jsd[\"categories\"])\n",
        "# tuple(list(map(lambda x : tuple(x), jsd[\"categories\"])))\n",
        "# list(map(lambda x : tuple(x.items()), jsd[\"categories\"]))\n",
        "# list(map(lambda x : tuple(x.values()), jsd[\"categories\"]))\n",
        "\n",
        "## 여기부터 고쳐야함\n",
        "cats = defaultdict(list)\n",
        "for cts in jsd[\"categories\"]:\n",
        "    cats.update(cts)\n",
        "print(cats)"
      ],
      "execution_count": 62,
      "outputs": [
        {
          "output_type": "stream",
          "name": "stdout",
          "text": [
            "defaultdict(<class 'list'>, {'id': 4, 'name': 'pe'})\n"
          ]
        }
      ]
    },
    {
      "cell_type": "code",
      "metadata": {
        "id": "nU5vHNU56AHV"
      },
      "source": [
        ""
      ],
      "execution_count": null,
      "outputs": []
    }
  ]
}