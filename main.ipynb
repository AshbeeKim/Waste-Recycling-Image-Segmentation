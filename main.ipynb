{
  "nbformat": 4,
  "nbformat_minor": 0,
  "metadata": {
    "colab": {
      "name": "Baseline.ipynb",
      "provenance": [],
      "collapsed_sections": [],
      "machine_shape": "hm",
      "authorship_tag": "ABX9TyNyi9r78Ozi59TFhHMCXzu9"
    },
    "kernelspec": {
      "name": "python3",
      "display_name": "Python 3"
    },
    "language_info": {
      "name": "python"
    },
    "accelerator": "GPU",
    "widgets": {
      "application/vnd.jupyter.widget-state+json": {
        "45d9b4a7146b49af83e9285224edc058": {
          "model_module": "@jupyter-widgets/controls",
          "model_name": "HBoxModel",
          "model_module_version": "1.5.0",
          "state": {
            "_view_name": "HBoxView",
            "_dom_classes": [],
            "_model_name": "HBoxModel",
            "_view_module": "@jupyter-widgets/controls",
            "_model_module_version": "1.5.0",
            "_view_count": null,
            "_view_module_version": "1.5.0",
            "box_style": "",
            "layout": "IPY_MODEL_9c8fbde55c954ef8a3cddf04772abb90",
            "_model_module": "@jupyter-widgets/controls",
            "children": [
              "IPY_MODEL_61c5776394834a5695cda5da96f15b20",
              "IPY_MODEL_72cc0e4767bf4b309d991603e84af316",
              "IPY_MODEL_819077f56ce448558213a400c28cde85"
            ]
          }
        },
        "9c8fbde55c954ef8a3cddf04772abb90": {
          "model_module": "@jupyter-widgets/base",
          "model_name": "LayoutModel",
          "model_module_version": "1.2.0",
          "state": {
            "_view_name": "LayoutView",
            "grid_template_rows": null,
            "right": null,
            "justify_content": null,
            "_view_module": "@jupyter-widgets/base",
            "overflow": null,
            "_model_module_version": "1.2.0",
            "_view_count": null,
            "flex_flow": null,
            "width": null,
            "min_width": null,
            "border": null,
            "align_items": null,
            "bottom": null,
            "_model_module": "@jupyter-widgets/base",
            "top": null,
            "grid_column": null,
            "overflow_y": null,
            "overflow_x": null,
            "grid_auto_flow": null,
            "grid_area": null,
            "grid_template_columns": null,
            "flex": null,
            "_model_name": "LayoutModel",
            "justify_items": null,
            "grid_row": null,
            "max_height": null,
            "align_content": null,
            "visibility": null,
            "align_self": null,
            "height": null,
            "min_height": null,
            "padding": null,
            "grid_auto_rows": null,
            "grid_gap": null,
            "max_width": null,
            "order": null,
            "_view_module_version": "1.2.0",
            "grid_template_areas": null,
            "object_position": null,
            "object_fit": null,
            "grid_auto_columns": null,
            "margin": null,
            "display": null,
            "left": null
          }
        },
        "61c5776394834a5695cda5da96f15b20": {
          "model_module": "@jupyter-widgets/controls",
          "model_name": "HTMLModel",
          "model_module_version": "1.5.0",
          "state": {
            "_view_name": "HTMLView",
            "style": "IPY_MODEL_eca26447dd664a3aa98422a75f3247be",
            "_dom_classes": [],
            "description": "",
            "_model_name": "HTMLModel",
            "placeholder": "​",
            "_view_module": "@jupyter-widgets/controls",
            "_model_module_version": "1.5.0",
            "value": "100%",
            "_view_count": null,
            "_view_module_version": "1.5.0",
            "description_tooltip": null,
            "_model_module": "@jupyter-widgets/controls",
            "layout": "IPY_MODEL_49b791f6933e47c499009275fa278647"
          }
        },
        "72cc0e4767bf4b309d991603e84af316": {
          "model_module": "@jupyter-widgets/controls",
          "model_name": "FloatProgressModel",
          "model_module_version": "1.5.0",
          "state": {
            "_view_name": "ProgressView",
            "style": "IPY_MODEL_415338ee5f6d46cb961e67cf9fbc08d8",
            "_dom_classes": [],
            "description": "",
            "_model_name": "FloatProgressModel",
            "bar_style": "success",
            "max": 167502836,
            "_view_module": "@jupyter-widgets/controls",
            "_model_module_version": "1.5.0",
            "value": 167502836,
            "_view_count": null,
            "_view_module_version": "1.5.0",
            "orientation": "horizontal",
            "min": 0,
            "description_tooltip": null,
            "_model_module": "@jupyter-widgets/controls",
            "layout": "IPY_MODEL_2e05e1a440814773b0ac75f7028dba81"
          }
        },
        "819077f56ce448558213a400c28cde85": {
          "model_module": "@jupyter-widgets/controls",
          "model_name": "HTMLModel",
          "model_module_version": "1.5.0",
          "state": {
            "_view_name": "HTMLView",
            "style": "IPY_MODEL_54f602896c1c45e3b7c3572046b36234",
            "_dom_classes": [],
            "description": "",
            "_model_name": "HTMLModel",
            "placeholder": "​",
            "_view_module": "@jupyter-widgets/controls",
            "_model_module_version": "1.5.0",
            "value": " 160M/160M [00:03&lt;00:00, 35.1MB/s]",
            "_view_count": null,
            "_view_module_version": "1.5.0",
            "description_tooltip": null,
            "_model_module": "@jupyter-widgets/controls",
            "layout": "IPY_MODEL_4b4a60e8eb3445afad18ff8f82f2e5f1"
          }
        },
        "eca26447dd664a3aa98422a75f3247be": {
          "model_module": "@jupyter-widgets/controls",
          "model_name": "DescriptionStyleModel",
          "model_module_version": "1.5.0",
          "state": {
            "_view_name": "StyleView",
            "_model_name": "DescriptionStyleModel",
            "description_width": "",
            "_view_module": "@jupyter-widgets/base",
            "_model_module_version": "1.5.0",
            "_view_count": null,
            "_view_module_version": "1.2.0",
            "_model_module": "@jupyter-widgets/controls"
          }
        },
        "49b791f6933e47c499009275fa278647": {
          "model_module": "@jupyter-widgets/base",
          "model_name": "LayoutModel",
          "model_module_version": "1.2.0",
          "state": {
            "_view_name": "LayoutView",
            "grid_template_rows": null,
            "right": null,
            "justify_content": null,
            "_view_module": "@jupyter-widgets/base",
            "overflow": null,
            "_model_module_version": "1.2.0",
            "_view_count": null,
            "flex_flow": null,
            "width": null,
            "min_width": null,
            "border": null,
            "align_items": null,
            "bottom": null,
            "_model_module": "@jupyter-widgets/base",
            "top": null,
            "grid_column": null,
            "overflow_y": null,
            "overflow_x": null,
            "grid_auto_flow": null,
            "grid_area": null,
            "grid_template_columns": null,
            "flex": null,
            "_model_name": "LayoutModel",
            "justify_items": null,
            "grid_row": null,
            "max_height": null,
            "align_content": null,
            "visibility": null,
            "align_self": null,
            "height": null,
            "min_height": null,
            "padding": null,
            "grid_auto_rows": null,
            "grid_gap": null,
            "max_width": null,
            "order": null,
            "_view_module_version": "1.2.0",
            "grid_template_areas": null,
            "object_position": null,
            "object_fit": null,
            "grid_auto_columns": null,
            "margin": null,
            "display": null,
            "left": null
          }
        },
        "415338ee5f6d46cb961e67cf9fbc08d8": {
          "model_module": "@jupyter-widgets/controls",
          "model_name": "ProgressStyleModel",
          "model_module_version": "1.5.0",
          "state": {
            "_view_name": "StyleView",
            "_model_name": "ProgressStyleModel",
            "description_width": "",
            "_view_module": "@jupyter-widgets/base",
            "_model_module_version": "1.5.0",
            "_view_count": null,
            "_view_module_version": "1.2.0",
            "bar_color": null,
            "_model_module": "@jupyter-widgets/controls"
          }
        },
        "2e05e1a440814773b0ac75f7028dba81": {
          "model_module": "@jupyter-widgets/base",
          "model_name": "LayoutModel",
          "model_module_version": "1.2.0",
          "state": {
            "_view_name": "LayoutView",
            "grid_template_rows": null,
            "right": null,
            "justify_content": null,
            "_view_module": "@jupyter-widgets/base",
            "overflow": null,
            "_model_module_version": "1.2.0",
            "_view_count": null,
            "flex_flow": null,
            "width": null,
            "min_width": null,
            "border": null,
            "align_items": null,
            "bottom": null,
            "_model_module": "@jupyter-widgets/base",
            "top": null,
            "grid_column": null,
            "overflow_y": null,
            "overflow_x": null,
            "grid_auto_flow": null,
            "grid_area": null,
            "grid_template_columns": null,
            "flex": null,
            "_model_name": "LayoutModel",
            "justify_items": null,
            "grid_row": null,
            "max_height": null,
            "align_content": null,
            "visibility": null,
            "align_self": null,
            "height": null,
            "min_height": null,
            "padding": null,
            "grid_auto_rows": null,
            "grid_gap": null,
            "max_width": null,
            "order": null,
            "_view_module_version": "1.2.0",
            "grid_template_areas": null,
            "object_position": null,
            "object_fit": null,
            "grid_auto_columns": null,
            "margin": null,
            "display": null,
            "left": null
          }
        },
        "54f602896c1c45e3b7c3572046b36234": {
          "model_module": "@jupyter-widgets/controls",
          "model_name": "DescriptionStyleModel",
          "model_module_version": "1.5.0",
          "state": {
            "_view_name": "StyleView",
            "_model_name": "DescriptionStyleModel",
            "description_width": "",
            "_view_module": "@jupyter-widgets/base",
            "_model_module_version": "1.5.0",
            "_view_count": null,
            "_view_module_version": "1.2.0",
            "_model_module": "@jupyter-widgets/controls"
          }
        },
        "4b4a60e8eb3445afad18ff8f82f2e5f1": {
          "model_module": "@jupyter-widgets/base",
          "model_name": "LayoutModel",
          "model_module_version": "1.2.0",
          "state": {
            "_view_name": "LayoutView",
            "grid_template_rows": null,
            "right": null,
            "justify_content": null,
            "_view_module": "@jupyter-widgets/base",
            "overflow": null,
            "_model_module_version": "1.2.0",
            "_view_count": null,
            "flex_flow": null,
            "width": null,
            "min_width": null,
            "border": null,
            "align_items": null,
            "bottom": null,
            "_model_module": "@jupyter-widgets/base",
            "top": null,
            "grid_column": null,
            "overflow_y": null,
            "overflow_x": null,
            "grid_auto_flow": null,
            "grid_area": null,
            "grid_template_columns": null,
            "flex": null,
            "_model_name": "LayoutModel",
            "justify_items": null,
            "grid_row": null,
            "max_height": null,
            "align_content": null,
            "visibility": null,
            "align_self": null,
            "height": null,
            "min_height": null,
            "padding": null,
            "grid_auto_rows": null,
            "grid_gap": null,
            "max_width": null,
            "order": null,
            "_view_module_version": "1.2.0",
            "grid_template_areas": null,
            "object_position": null,
            "object_fit": null,
            "grid_auto_columns": null,
            "margin": null,
            "display": null,
            "left": null
          }
        }
      }
    }
  },
  "cells": [
    {
      "cell_type": "code",
      "metadata": {
        "id": "vyyjXDjeMY3y"
      },
      "source": [
        "import os\n",
        "from google.colab import drive\n",
        "from os.path import join as jn\n",
        "import shutil\n",
        "\n",
        "# 구글 드라이브 접근\n",
        "ROOT = \"/content/drive\"\n",
        "try:\n",
        "  drive.mount(ROOT, force_remount=True)\n",
        "except:\n",
        "  drive.mount(ROOT)\n",
        "\n",
        "# 본인 경로에 맞게 수정하면 됨.\n",
        "PATH = jn(ROOT, \"MyDrive/Task/plastic-segmentation/Data\")\n",
        "# 샘플 데이터 사용 시에도 동일하게 train, test 이전까지의 경로만 수정해주면 됩니다.\n",
        "\n",
        "# 구글 드라이브 경로에서 '/content/sample_data/data\"로 복사 시\n",
        "shutil.copytree(PATH +\"/train\", \"./sample_data/data/train\")\n",
        "shutil.copytree(PATH +\"/test\", \"./sample_data/data/test\")"
      ],
      "execution_count": null,
      "outputs": []
    },
    {
      "cell_type": "markdown",
      "metadata": {
        "id": "XmU1FEV5Pb9W"
      },
      "source": [
        "# init"
      ]
    },
    {
      "cell_type": "code",
      "metadata": {
        "id": "T7DuTJMEKYWI"
      },
      "source": [
        "import os\n",
        "import json\n",
        "from tqdm import tqdm\n",
        "\n",
        "import numpy as np\n",
        "# import pandas as pd\n",
        "import cv2 as cv\n",
        "from PIL import Image\n",
        "\n",
        "import matplotlib.pyplot as plt\n",
        "import matplotlib.patches as patches\n",
        "from pycocotools.coco import COCO\n",
        "\n",
        "import torch\n",
        "import torch.optim as optim\n",
        "from torch  import nn, Tensor\n",
        "\n",
        "BASE = os.getcwd()\n",
        "PATH = f\"{BASE}/sample_data/data\"   # colab\n",
        "# PATH = f\"{BASE}/assets/data\"        # github"
      ],
      "execution_count": 7,
      "outputs": []
    },
    {
      "cell_type": "code",
      "metadata": {
        "colab": {
          "base_uri": "https://localhost:8080/"
        },
        "id": "U27Zh1SIRqaL",
        "outputId": "961e8077-076a-4aa4-e6bb-e7db7760d222"
      },
      "source": [
        "# version 1 : @qkrwjdduf159\n",
        "\n",
        "## train\n",
        "trn_path = f\"{PATH}/train/annotation\"\n",
        "file_list = os.listdir(trn_path)\n",
        "\n",
        "train_files = []\n",
        "for file in tqdm(file_list):\n",
        "    dir = trn_path + '/' + file\n",
        "    json_list = glob(dir + '/' + '*.json')\n",
        "    train_files.append(json_list)\n",
        "\n",
        "train_json_list = []\n",
        "for files in tqdm(train_files):\n",
        "    for json_file in tqdm(files):\n",
        "        train_json_list.append(json_file)\n",
        "\n",
        "## test\n",
        "tst_PATH = f\"{PATH}/test/annotations\"\n",
        "file_list = os.listdir(tst_PATH)\n",
        "\n",
        "test_files = []\n",
        "for file in tqdm(file_list):\n",
        "    dir = tst_PATH + '/' + file\n",
        "    json_list = glob(dir + '/' + '*.json')\n",
        "    test_files.append(json_list)\n",
        "\n",
        "test_json_list = []\n",
        "for files in tqdm(test_files):\n",
        "    for json_file in tqdm(files):\n",
        "        test_json_list.append(json_file)"
      ],
      "execution_count": 21,
      "outputs": [
        {
          "output_type": "stream",
          "name": "stderr",
          "text": [
            "100%|██████████| 4/4 [00:00<00:00, 371.55it/s]\n",
            "  0%|          | 0/4 [00:00<?, ?it/s]\n",
            "100%|██████████| 1000/1000 [00:00<00:00, 1236163.87it/s]\n",
            "\n",
            "100%|██████████| 1000/1000 [00:00<00:00, 1814930.33it/s]\n",
            "\n",
            "100%|██████████| 1000/1000 [00:00<00:00, 1903041.74it/s]\n",
            "\n",
            "100%|██████████| 1000/1000 [00:00<00:00, 1488925.81it/s]\n",
            "100%|██████████| 4/4 [00:00<00:00, 163.76it/s]\n",
            "100%|██████████| 4/4 [00:00<00:00, 462.07it/s]\n",
            "  0%|          | 0/4 [00:00<?, ?it/s]\n",
            "100%|██████████| 100/100 [00:00<00:00, 835518.73it/s]\n",
            "\n",
            "100%|██████████| 100/100 [00:00<00:00, 761216.70it/s]\n",
            "\n",
            "100%|██████████| 100/100 [00:00<00:00, 903944.83it/s]\n",
            "\n",
            "100%|██████████| 100/100 [00:00<00:00, 861253.39it/s]\n",
            "100%|██████████| 4/4 [00:00<00:00, 159.80it/s]\n"
          ]
        }
      ]
    },
    {
      "cell_type": "code",
      "metadata": {
        "colab": {
          "base_uri": "https://localhost:8080/"
        },
        "id": "qAwIck4sT5G4",
        "outputId": "f6646496-b011-49ef-e0f7-de429060b9ad"
      },
      "source": [
        "# version 2 @AshbeeKim\n",
        "trn = os.path.join(PATH, \"train\")\n",
        "tst = os.path.join(PATH, \"test\")\n",
        "\n",
        "baseDF = {\"kind\" : [], \"label\" : [], \"metainfo_id\" : [], \"feature\" : [], \"image_path\" : [], \"annot_path\": []}\n",
        "trn_num, tst_num = 0, 0\n",
        "for fpath in tqdm([trn, tst]):\n",
        "    kind = os.path.basename(fpath)\n",
        "    BDIR = sorted(os.listdir(fpath))    # image, annotation(s)\n",
        "    for bdir in BDIR:\n",
        "        for dirs in sorted(os.listdir(jn(fpath, bdir))):\n",
        "            dpath = jn(fpath, bdir, dirs)\n",
        "            if bdir.lower()=='image':\n",
        "                paths = sorted(glob(dpath + \"/*.jpg\"))\n",
        "                baseDF['image_path'].extend(paths)\n",
        "                kinds = [kind for cnt in range(len(paths))]\n",
        "                baseDF['kind'].extend(kinds)\n",
        "                if kind=='train' : trn_num += len(paths)\n",
        "                elif kind=='test' : tst_num += len(paths)\n",
        "                fnames = [os.path.basename(fname) for fname in paths]\n",
        "                labels = list(map(lambda x: (x.split('_')[0]), fnames))\n",
        "                baseDF['label'].extend(labels)\n",
        "                metaIds = list(map(lambda x: int(x.split('_')[1]), fnames))\n",
        "                baseDF['metainfo_id'].extend(metaIds)\n",
        "                feats = list(map(lambda x: int(x.split('_')[-1][:-4]), fnames))\n",
        "                baseDF['feature'].extend(feats)\n",
        "            else:\n",
        "                paths = sorted(glob(dpath + \"/*.json\"))\n",
        "                baseDF['annot_path'].extend(paths)"
      ],
      "execution_count": 42,
      "outputs": [
        {
          "output_type": "stream",
          "name": "stderr",
          "text": [
            "100%|██████████| 2/2 [00:00<00:00, 55.92it/s]\n"
          ]
        }
      ]
    },
    {
      "cell_type": "markdown",
      "metadata": {
        "id": "cjnVJRjh8ttS"
      },
      "source": [
        "*** 현재 수정 중 ***"
      ]
    },
    {
      "cell_type": "code",
      "metadata": {
        "colab": {
          "base_uri": "https://localhost:8080/"
        },
        "id": "9QWylJI8Ck2j",
        "outputId": "806ff23a-1e54-4046-c9d0-5149786b390a"
      },
      "source": [
        "baseDF['kind'][3995:trn_num]"
      ],
      "execution_count": 43,
      "outputs": [
        {
          "output_type": "execute_result",
          "data": {
            "text/plain": [
              "['train', 'train', 'train', 'train', 'train']"
            ]
          },
          "metadata": {},
          "execution_count": 43
        }
      ]
    },
    {
      "cell_type": "code",
      "metadata": {
        "colab": {
          "base_uri": "https://localhost:8080/"
        },
        "id": "QRvlK2mnEat4",
        "outputId": "56b01fd7-7611-4f3b-b936-24b7480ea53d"
      },
      "source": [
        "baseDF['kind'][trn_num:trn_num+5]"
      ],
      "execution_count": 45,
      "outputs": [
        {
          "output_type": "execute_result",
          "data": {
            "text/plain": [
              "['test', 'test', 'test', 'test', 'test']"
            ]
          },
          "metadata": {},
          "execution_count": 45
        }
      ]
    },
    {
      "cell_type": "code",
      "metadata": {
        "id": "lV0fT9zqWbFi"
      },
      "source": [
        "# cotributed by @qkrwjdduf156, @AshbeeKim\n",
        "import os\n",
        "import numpy as np\n",
        "import torch\n",
        "from PIL import Image\n",
        "\n",
        "class CustomDataset(torch.utils.data.Dataset):\n",
        "    def __init__(self, base_info, transforms = None, mode = 'train', train_size = None, test_size = None):\n",
        "        self.mode = mode\n",
        "        self.infos = base_info\n",
        "        self.transforms = transforms\n",
        "        self.train_size = train_size\n",
        "        self.test_size = test_size\n",
        "        \n",
        "    def __getitem__(self, idx):\n",
        "        if self.mode == 'train':\n",
        "            json_path = (self.infos['annot_path'])[:self.train_size][idx]\n",
        "\n",
        "            with open(json_path, 'r') as f:\n",
        "                annot = json.loads(f.read())\n",
        "\n",
        "            image_path = (self.infos['image_path'])[:self.train_size][idx]\n",
        "            image = Image.open(image_path).convert('RGB')\n",
        "\n",
        "            boxes = []\n",
        "            segmentations = []\n",
        "            labels = []\n",
        "            for i in range(len(annot['annotations'])):\n",
        "\n",
        "                segmentation = annot['annotations'][i]['segmentation'][0]\n",
        "                bbox = annot['annotations'][i]['bbox']\n",
        "                label = torch.tensor(annot['annotations'][i]['category_id'], dtype = np.unit8)\n",
        "                xmin, ymin, width, height = bbox[0],bbox[1],bbox[2],bbox[3]\n",
        "                xmin, ymin, xmax, ymax = xmin, ymin, xmin + width, ymax + height\n",
        "                \n",
        "                boxes.append([xmin, ymin, xmax, ymax])\n",
        "                segmentations.append([segmentation])\n",
        "                labels.append(label)\n",
        "\n",
        "            target = {}\n",
        "            target['boxes'] = boxes\n",
        "            target['labels'] = labels\n",
        "            target['segmentation'] = segmentations\n",
        "            target['image_id'] = image_path.split('/')[-1]\n",
        "\n",
        "            if self.transforms is not None:\n",
        "                img, target = self.transforms(img, target)\n",
        "\n",
        "            return img, target\n",
        "\n",
        "        elif self.model == 'test':\n",
        "            st_num = self.train_size\n",
        "            ed_num = self.train_size + self.test_size\n",
        "\n",
        "            json_path = ((self.infos['annot_path'])[st_num:ed_num])[idx]\n",
        "            with open(json_path, 'r') as f:\n",
        "                annot = json.loads(f.read())\n",
        "\n",
        "            image_path = ((self.infos['image_path'])[st_num:ed_num])[idx]\n",
        "            image = Image.open(image_path).convert('RGB')\n",
        "            \n",
        "            target = {}\n",
        "            target['image_id'] = image_path.split('/')[-1]\n",
        "            return image, target\n",
        "        \n",
        "    def __len__(self):\n",
        "        if self.mode == 'train':\n",
        "            return self.train_size\n",
        "        elif self.mode == 'test':\n",
        "            return self.test_size"
      ],
      "execution_count": 46,
      "outputs": []
    },
    {
      "cell_type": "code",
      "metadata": {
        "colab": {
          "base_uri": "https://localhost:8080/",
          "height": 86,
          "referenced_widgets": [
            "45d9b4a7146b49af83e9285224edc058",
            "9c8fbde55c954ef8a3cddf04772abb90",
            "61c5776394834a5695cda5da96f15b20",
            "72cc0e4767bf4b309d991603e84af316",
            "819077f56ce448558213a400c28cde85",
            "eca26447dd664a3aa98422a75f3247be",
            "49b791f6933e47c499009275fa278647",
            "415338ee5f6d46cb961e67cf9fbc08d8",
            "2e05e1a440814773b0ac75f7028dba81",
            "54f602896c1c45e3b7c3572046b36234",
            "4b4a60e8eb3445afad18ff8f82f2e5f1"
          ]
        },
        "id": "k3Ncq75MYFD3",
        "outputId": "76bb2bfb-4770-442f-f69b-3727ff3779e7"
      },
      "source": [
        "import torchvision\n",
        "from torchvision.models.detection.faster_rcnn import FastRCNNPredictor\n",
        "\n",
        "train_dataset = CustomDataset(baseDF, mode = 'train', train_size=trn_num, test_size=tst_num)\n",
        "model = torchvision.models.detection.fasterrcnn_resnet50_fpn(pretrained = True)\n",
        "\n",
        "num_classes = 4\n",
        "in_features = model.roi_heads.box_predictor.cls_score.in_features\n",
        "\n",
        "model.roi_heads.box_predictor = FastRCNNPredictor(in_features, num_classes)"
      ],
      "execution_count": 47,
      "outputs": [
        {
          "output_type": "stream",
          "name": "stderr",
          "text": [
            "Downloading: \"https://download.pytorch.org/models/fasterrcnn_resnet50_fpn_coco-258fb6c6.pth\" to /root/.cache/torch/hub/checkpoints/fasterrcnn_resnet50_fpn_coco-258fb6c6.pth\n"
          ]
        },
        {
          "output_type": "display_data",
          "data": {
            "application/vnd.jupyter.widget-view+json": {
              "model_id": "45d9b4a7146b49af83e9285224edc058",
              "version_minor": 0,
              "version_major": 2
            },
            "text/plain": [
              "  0%|          | 0.00/160M [00:00<?, ?B/s]"
            ]
          },
          "metadata": {}
        }
      ]
    }
  ]
}